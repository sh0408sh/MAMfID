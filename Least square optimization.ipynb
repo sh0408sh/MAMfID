{
 "cells": [
  {
   "cell_type": "code",
   "execution_count": 1,
   "id": "7fe1a793",
   "metadata": {},
   "outputs": [],
   "source": [
    "import numpy as np\n",
    "import matplotlib.pyplot as plt\n",
    "from scipy.optimize import curve_fit"
   ]
  },
  {
   "cell_type": "code",
   "execution_count": 2,
   "id": "ff48af46",
   "metadata": {},
   "outputs": [],
   "source": [
    "def func(x, a, b, c):\n",
    "    return a * np.exp(-b * x) + c"
   ]
  },
  {
   "cell_type": "code",
   "execution_count": null,
   "id": "d6901f04",
   "metadata": {},
   "outputs": [],
   "source": [
    "#Define data with some noise"
   ]
  },
  {
   "cell_type": "code",
   "execution_count": 3,
   "id": "db029a3c",
   "metadata": {},
   "outputs": [
    {
     "data": {
      "text/plain": [
       "array([0.        , 0.08163265, 0.16326531, 0.24489796, 0.32653061,\n",
       "       0.40816327, 0.48979592, 0.57142857, 0.65306122, 0.73469388,\n",
       "       0.81632653, 0.89795918, 0.97959184, 1.06122449, 1.14285714,\n",
       "       1.2244898 , 1.30612245, 1.3877551 , 1.46938776, 1.55102041,\n",
       "       1.63265306, 1.71428571, 1.79591837, 1.87755102, 1.95918367,\n",
       "       2.04081633, 2.12244898, 2.20408163, 2.28571429, 2.36734694,\n",
       "       2.44897959, 2.53061224, 2.6122449 , 2.69387755, 2.7755102 ,\n",
       "       2.85714286, 2.93877551, 3.02040816, 3.10204082, 3.18367347,\n",
       "       3.26530612, 3.34693878, 3.42857143, 3.51020408, 3.59183673,\n",
       "       3.67346939, 3.75510204, 3.83673469, 3.91836735, 4.        ])"
      ]
     },
     "execution_count": 3,
     "metadata": {},
     "output_type": "execute_result"
    }
   ],
   "source": [
    "xdata = np.linspace(0, 4, 50)\n",
    "xdata"
   ]
  },
  {
   "cell_type": "code",
   "execution_count": 4,
   "id": "b9112543",
   "metadata": {},
   "outputs": [
    {
     "data": {
      "text/plain": [
       "array([3.        , 2.7482863 , 2.52191652, 2.31833889, 2.13525857,\n",
       "       1.97061177, 1.82254252, 1.6893817 , 1.56962823, 1.4619322 ,\n",
       "       1.3650796 , 1.27797864, 1.19964749, 1.12920315, 1.06585153,\n",
       "       1.0088785 , 0.95764182, 0.91156393, 0.87012542, 0.83285917,\n",
       "       0.79934508, 0.76920538, 0.74210031, 0.71772432, 0.69580264,\n",
       "       0.67608816, 0.65835864, 0.64241422, 0.62807518, 0.61517987,\n",
       "       0.60358293, 0.59315363, 0.58377441, 0.57533955, 0.56775395,\n",
       "       0.56093211, 0.55479713, 0.54927986, 0.54431809, 0.5398559 ,\n",
       "       0.53584299, 0.53223412, 0.52898861, 0.52606988, 0.52344502,\n",
       "       0.52108445, 0.51896155, 0.5170524 , 0.51533547, 0.51379141])"
      ]
     },
     "execution_count": 4,
     "metadata": {},
     "output_type": "execute_result"
    }
   ],
   "source": [
    "y = func(xdata, 2.5, 1.3, 0.5)\n",
    "y"
   ]
  },
  {
   "cell_type": "code",
   "execution_count": null,
   "id": "8e1675dd",
   "metadata": {},
   "outputs": [],
   "source": [
    "#random number generator\n",
    "#default_rnag : constructor for the random number class Generator\n",
    "rng = np.random.default_rng()"
   ]
  }
 ],
 "metadata": {
  "kernelspec": {
   "display_name": "Python 3 (ipykernel)",
   "language": "python",
   "name": "python3"
  },
  "language_info": {
   "codemirror_mode": {
    "name": "ipython",
    "version": 3
   },
   "file_extension": ".py",
   "mimetype": "text/x-python",
   "name": "python",
   "nbconvert_exporter": "python",
   "pygments_lexer": "ipython3",
   "version": "3.9.13"
  }
 },
 "nbformat": 4,
 "nbformat_minor": 5
}
