{
 "cells": [
  {
   "cell_type": "markdown",
   "metadata": {
    "id": "JooJ7cGP5HMS"
   },
   "source": [
    "[![Open In Colab](https://colab.research.google.com/assets/colab-badge.svg)](https://colab.research.google.com/github/corazzon/finance-data-analysis/blob/main/3.1%20FinanceDataReader%EB%A5%BC%20%ED%86%B5%ED%95%9C%20%EA%B0%9C%EB%B3%84%EC%A2%85%EB%AA%A9%20%EC%88%98%EC%A7%91%ED%95%98%EA%B8%B0-output.ipynb)\n",
    "\n",
    "## 라이브러리 불러오기"
   ]
  },
  {
   "cell_type": "markdown",
   "metadata": {},
   "source": [
    "- https://github.com/corazzon/finance-data-analysis/blob/main/3.1%20FinanceDataReader%EB%A5%BC%20%ED%86%B5%ED%95%9C%20%EA%B0%9C%EB%B3%84%EC%A2%85%EB%AA%A9%20%EC%88%98%EC%A7%91%ED%95%98%EA%B8%B0-output.ipynb\n",
    "\n",
    "- https://github.com/corazzon/finance-data-analysis/blob/main/2.2.%20KRX%20%EC%A0%84%EC%B2%B4%20%EC%A2%85%EB%AA%A9%EB%B6%84%EC%84%9D-output.ipynb"
   ]
  },
  {
   "cell_type": "code",
   "execution_count": 37,
   "metadata": {
    "execution": {
     "iopub.execute_input": "2023-03-10T01:34:30.889303Z",
     "iopub.status.busy": "2023-03-10T01:34:30.888652Z",
     "iopub.status.idle": "2023-03-10T01:34:30.895709Z",
     "shell.execute_reply": "2023-03-10T01:34:30.894479Z",
     "shell.execute_reply.started": "2023-03-10T01:34:30.889247Z"
    },
    "id": "0HuA8Gtr5HMT",
    "tags": []
   },
   "outputs": [],
   "source": [
    "# 데이터 분석을 위해 pandas 불러오기\n",
    "import pandas as pd"
   ]
  },
  {
   "cell_type": "markdown",
   "metadata": {
    "id": "yx1gbnsI5HMQ"
   },
   "source": [
    "* [FinanceData/FinanceDataReader: Financial data reader](https://github.com/FinanceData/FinanceDataReader)\n",
    "* [FinanceDataReader 사용자 안내서 | FinanceData](https://financedata.github.io/posts/finance-data-reader-users-guide.html)"
   ]
  },
  {
   "cell_type": "code",
   "execution_count": 38,
   "metadata": {
    "execution": {
     "iopub.execute_input": "2023-03-10T01:34:35.799129Z",
     "iopub.status.busy": "2023-03-10T01:34:35.798446Z",
     "iopub.status.idle": "2023-03-10T01:34:39.235072Z",
     "shell.execute_reply": "2023-03-10T01:34:39.233175Z",
     "shell.execute_reply.started": "2023-03-10T01:34:35.799035Z"
    },
    "id": "Szu-zewh5HMR",
    "tags": []
   },
   "outputs": [
    {
     "name": "stdout",
     "output_type": "stream",
     "text": [
      "Requirement already satisfied: finance-datareader in /opt/conda/lib/python3.10/site-packages (0.9.50)\n",
      "Requirement already satisfied: pandas>=0.19.2 in /opt/conda/lib/python3.10/site-packages (from finance-datareader) (1.5.3)\n",
      "Requirement already satisfied: requests-file in /opt/conda/lib/python3.10/site-packages (from finance-datareader) (1.5.1)\n",
      "Requirement already satisfied: lxml in /opt/conda/lib/python3.10/site-packages (from finance-datareader) (4.9.2)\n",
      "Requirement already satisfied: tqdm in /opt/conda/lib/python3.10/site-packages (from finance-datareader) (4.64.1)\n",
      "Requirement already satisfied: requests>=2.3.0 in /opt/conda/lib/python3.10/site-packages (from finance-datareader) (2.28.2)\n",
      "Requirement already satisfied: python-dateutil>=2.8.1 in /opt/conda/lib/python3.10/site-packages (from pandas>=0.19.2->finance-datareader) (2.8.2)\n",
      "Requirement already satisfied: pytz>=2020.1 in /opt/conda/lib/python3.10/site-packages (from pandas>=0.19.2->finance-datareader) (2022.7.1)\n",
      "Requirement already satisfied: numpy>=1.21.0 in /opt/conda/lib/python3.10/site-packages (from pandas>=0.19.2->finance-datareader) (1.23.5)\n",
      "Requirement already satisfied: charset-normalizer<4,>=2 in /opt/conda/lib/python3.10/site-packages (from requests>=2.3.0->finance-datareader) (2.1.1)\n",
      "Requirement already satisfied: idna<4,>=2.5 in /opt/conda/lib/python3.10/site-packages (from requests>=2.3.0->finance-datareader) (3.4)\n",
      "Requirement already satisfied: certifi>=2017.4.17 in /opt/conda/lib/python3.10/site-packages (from requests>=2.3.0->finance-datareader) (2022.12.7)\n",
      "Requirement already satisfied: urllib3<1.27,>=1.21.1 in /opt/conda/lib/python3.10/site-packages (from requests>=2.3.0->finance-datareader) (1.26.14)\n",
      "Requirement already satisfied: six in /opt/conda/lib/python3.10/site-packages (from requests-file->finance-datareader) (1.16.0)\n",
      "\u001b[33mWARNING: Running pip as the 'root' user can result in broken permissions and conflicting behaviour with the system package manager. It is recommended to use a virtual environment instead: https://pip.pypa.io/warnings/venv\u001b[0m\u001b[33m\n",
      "\u001b[0m"
     ]
    }
   ],
   "source": [
    "# colab 을 사용한다면 런타임이 초기화 될때마다 다시 설치해 주어야 합니다.\n",
    "# 로컬 컴퓨터에 설치했다면 이전에 설치된 라이브러리를 사용해 주시면 됩니다.\n",
    "!pip install -U finance-datareader"
   ]
  },
  {
   "cell_type": "code",
   "execution_count": 3,
   "metadata": {
    "execution": {
     "iopub.execute_input": "2023-03-09T01:07:45.180529Z",
     "iopub.status.busy": "2023-03-09T01:07:45.179881Z",
     "iopub.status.idle": "2023-03-09T01:07:45.346538Z",
     "shell.execute_reply": "2023-03-09T01:07:45.345864Z",
     "shell.execute_reply.started": "2023-03-09T01:07:45.180460Z"
    },
    "id": "RmRqR4HT5HMT",
    "tags": []
   },
   "outputs": [
    {
     "data": {
      "text/plain": [
       "'0.9.50'"
      ]
     },
     "execution_count": 3,
     "metadata": {},
     "output_type": "execute_result"
    }
   ],
   "source": [
    "# FinanceDataReader 를 fdr 별칭으로 가져오기\n",
    "import FinanceDataReader as fdr\n",
    "fdr.__version__"
   ]
  },
  {
   "cell_type": "markdown",
   "metadata": {},
   "source": [
    "## 한국거래소 상장종목 전체 가져오기"
   ]
  },
  {
   "cell_type": "code",
   "execution_count": 4,
   "metadata": {
    "execution": {
     "iopub.execute_input": "2023-03-09T01:08:00.881060Z",
     "iopub.status.busy": "2023-03-09T01:08:00.880231Z",
     "iopub.status.idle": "2023-03-09T01:08:00.887284Z",
     "shell.execute_reply": "2023-03-09T01:08:00.885994Z",
     "shell.execute_reply.started": "2023-03-09T01:08:00.881005Z"
    },
    "tags": []
   },
   "outputs": [],
   "source": [
    "# 도움말을 보고자 할때는 ? 를 사용하고 소스코드를 볼 때는 ??를 사용합니다.\n",
    "# 주피터 노트북에서는 함수나 메소드의 괄호 안에서 shift + tab 키를 누르면 도움말을 볼 수 있습니다.\n",
    "\n",
    "#fdr.StockListing??"
   ]
  },
  {
   "cell_type": "code",
   "execution_count": 5,
   "metadata": {
    "execution": {
     "iopub.execute_input": "2023-03-09T01:08:10.754830Z",
     "iopub.status.busy": "2023-03-09T01:08:10.754254Z",
     "iopub.status.idle": "2023-03-09T01:08:16.363105Z",
     "shell.execute_reply": "2023-03-09T01:08:16.361828Z",
     "shell.execute_reply.started": "2023-03-09T01:08:10.754778Z"
    },
    "tags": []
   },
   "outputs": [],
   "source": [
    "# KRX : KRX 종목 전체\n",
    "# KOSPI : KOSPI 종목\n",
    "# KOSDAQ : KOSDAQ 종목\n",
    "# KONEX : KONEX 종목\n",
    "# NASDAQ : 나스닥 종목\n",
    "# NYSE : 뉴욕증권거래소 종목\n",
    "# SP500 : S&P500 종목\n",
    "df_krx = fdr.StockListing(\"KRX\")"
   ]
  },
  {
   "cell_type": "code",
   "execution_count": 12,
   "metadata": {
    "execution": {
     "iopub.execute_input": "2023-03-08T07:27:17.411796Z",
     "iopub.status.busy": "2023-03-08T07:27:17.411210Z",
     "iopub.status.idle": "2023-03-08T07:27:17.417818Z",
     "shell.execute_reply": "2023-03-08T07:27:17.416527Z",
     "shell.execute_reply.started": "2023-03-08T07:27:17.411742Z"
    },
    "tags": []
   },
   "outputs": [],
   "source": [
    "# 가끔 한국거래소에 서버점검 등의 이슈가 있어 fdr.StockListing 으로 상장종목을 받아오지 못할 때가 있습니다.\n",
    "# 그럴 때는 아래의 주석을 해제하고 실습해 주세요!\n",
    "# df_krx = pd.read_csv(\"https://raw.githubusercontent.com/corazzon/finance-data-analysis/main/krx.csv\")"
   ]
  },
  {
   "cell_type": "code",
   "execution_count": 6,
   "metadata": {
    "execution": {
     "iopub.execute_input": "2023-03-09T01:08:16.365060Z",
     "iopub.status.busy": "2023-03-09T01:08:16.364752Z",
     "iopub.status.idle": "2023-03-09T01:08:16.386196Z",
     "shell.execute_reply": "2023-03-09T01:08:16.385163Z",
     "shell.execute_reply.started": "2023-03-09T01:08:16.365028Z"
    },
    "tags": []
   },
   "outputs": [
    {
     "data": {
      "text/html": [
       "<div>\n",
       "<style scoped>\n",
       "    .dataframe tbody tr th:only-of-type {\n",
       "        vertical-align: middle;\n",
       "    }\n",
       "\n",
       "    .dataframe tbody tr th {\n",
       "        vertical-align: top;\n",
       "    }\n",
       "\n",
       "    .dataframe thead th {\n",
       "        text-align: right;\n",
       "    }\n",
       "</style>\n",
       "<table border=\"1\" class=\"dataframe\">\n",
       "  <thead>\n",
       "    <tr style=\"text-align: right;\">\n",
       "      <th></th>\n",
       "      <th>Code</th>\n",
       "      <th>ISU_CD</th>\n",
       "      <th>Name</th>\n",
       "      <th>Market</th>\n",
       "      <th>Dept</th>\n",
       "      <th>Close</th>\n",
       "      <th>ChangeCode</th>\n",
       "      <th>Changes</th>\n",
       "      <th>ChagesRatio</th>\n",
       "      <th>Open</th>\n",
       "      <th>High</th>\n",
       "      <th>Low</th>\n",
       "      <th>Volume</th>\n",
       "      <th>Amount</th>\n",
       "      <th>Marcap</th>\n",
       "      <th>Stocks</th>\n",
       "      <th>MarketId</th>\n",
       "    </tr>\n",
       "  </thead>\n",
       "  <tbody>\n",
       "    <tr>\n",
       "      <th>0</th>\n",
       "      <td>005930</td>\n",
       "      <td>KR7005930003</td>\n",
       "      <td>삼성전자</td>\n",
       "      <td>KOSPI</td>\n",
       "      <td></td>\n",
       "      <td>60300</td>\n",
       "      <td>3</td>\n",
       "      <td>0</td>\n",
       "      <td>0.00</td>\n",
       "      <td>60500</td>\n",
       "      <td>60800</td>\n",
       "      <td>60300</td>\n",
       "      <td>2612263</td>\n",
       "      <td>158235446300</td>\n",
       "      <td>359977887765000</td>\n",
       "      <td>5969782550</td>\n",
       "      <td>STK</td>\n",
       "    </tr>\n",
       "    <tr>\n",
       "      <th>1</th>\n",
       "      <td>373220</td>\n",
       "      <td>KR7373220003</td>\n",
       "      <td>LG에너지솔루션</td>\n",
       "      <td>KOSPI</td>\n",
       "      <td></td>\n",
       "      <td>557000</td>\n",
       "      <td>2</td>\n",
       "      <td>-5000</td>\n",
       "      <td>-0.89</td>\n",
       "      <td>564000</td>\n",
       "      <td>569000</td>\n",
       "      <td>556000</td>\n",
       "      <td>78804</td>\n",
       "      <td>44209959000</td>\n",
       "      <td>130338000000000</td>\n",
       "      <td>234000000</td>\n",
       "      <td>STK</td>\n",
       "    </tr>\n",
       "    <tr>\n",
       "      <th>2</th>\n",
       "      <td>000660</td>\n",
       "      <td>KR7000660001</td>\n",
       "      <td>SK하이닉스</td>\n",
       "      <td>KOSPI</td>\n",
       "      <td></td>\n",
       "      <td>86200</td>\n",
       "      <td>2</td>\n",
       "      <td>-600</td>\n",
       "      <td>-0.69</td>\n",
       "      <td>87300</td>\n",
       "      <td>87800</td>\n",
       "      <td>86000</td>\n",
       "      <td>683102</td>\n",
       "      <td>59298259600</td>\n",
       "      <td>62753803863000</td>\n",
       "      <td>728002365</td>\n",
       "      <td>STK</td>\n",
       "    </tr>\n",
       "    <tr>\n",
       "      <th>3</th>\n",
       "      <td>207940</td>\n",
       "      <td>KR7207940008</td>\n",
       "      <td>삼성바이오로직스</td>\n",
       "      <td>KOSPI</td>\n",
       "      <td></td>\n",
       "      <td>778000</td>\n",
       "      <td>1</td>\n",
       "      <td>1000</td>\n",
       "      <td>0.13</td>\n",
       "      <td>782000</td>\n",
       "      <td>782000</td>\n",
       "      <td>775000</td>\n",
       "      <td>4966</td>\n",
       "      <td>3866200000</td>\n",
       "      <td>55373372000000</td>\n",
       "      <td>71174000</td>\n",
       "      <td>STK</td>\n",
       "    </tr>\n",
       "    <tr>\n",
       "      <th>4</th>\n",
       "      <td>006400</td>\n",
       "      <td>KR7006400006</td>\n",
       "      <td>삼성SDI</td>\n",
       "      <td>KOSPI</td>\n",
       "      <td></td>\n",
       "      <td>735000</td>\n",
       "      <td>2</td>\n",
       "      <td>-19000</td>\n",
       "      <td>-2.52</td>\n",
       "      <td>756000</td>\n",
       "      <td>757000</td>\n",
       "      <td>735000</td>\n",
       "      <td>98995</td>\n",
       "      <td>73662888000</td>\n",
       "      <td>50541929550000</td>\n",
       "      <td>68764530</td>\n",
       "      <td>STK</td>\n",
       "    </tr>\n",
       "  </tbody>\n",
       "</table>\n",
       "</div>"
      ],
      "text/plain": [
       "     Code        ISU_CD      Name Market Dept   Close ChangeCode  Changes  \\\n",
       "0  005930  KR7005930003      삼성전자  KOSPI        60300          3        0   \n",
       "1  373220  KR7373220003  LG에너지솔루션  KOSPI       557000          2    -5000   \n",
       "2  000660  KR7000660001    SK하이닉스  KOSPI        86200          2     -600   \n",
       "3  207940  KR7207940008  삼성바이오로직스  KOSPI       778000          1     1000   \n",
       "4  006400  KR7006400006     삼성SDI  KOSPI       735000          2   -19000   \n",
       "\n",
       "   ChagesRatio    Open    High     Low   Volume        Amount  \\\n",
       "0         0.00   60500   60800   60300  2612263  158235446300   \n",
       "1        -0.89  564000  569000  556000    78804   44209959000   \n",
       "2        -0.69   87300   87800   86000   683102   59298259600   \n",
       "3         0.13  782000  782000  775000     4966    3866200000   \n",
       "4        -2.52  756000  757000  735000    98995   73662888000   \n",
       "\n",
       "            Marcap      Stocks MarketId  \n",
       "0  359977887765000  5969782550      STK  \n",
       "1  130338000000000   234000000      STK  \n",
       "2   62753803863000   728002365      STK  \n",
       "3   55373372000000    71174000      STK  \n",
       "4   50541929550000    68764530      STK  "
      ]
     },
     "execution_count": 6,
     "metadata": {},
     "output_type": "execute_result"
    }
   ],
   "source": [
    "# 한국거래소 상장종목 전체 가져오기\n",
    "df_krx.head(5)"
   ]
  },
  {
   "cell_type": "code",
   "execution_count": 7,
   "metadata": {
    "execution": {
     "iopub.execute_input": "2023-03-09T01:08:53.900345Z",
     "iopub.status.busy": "2023-03-09T01:08:53.899770Z",
     "iopub.status.idle": "2023-03-09T01:08:53.908879Z",
     "shell.execute_reply": "2023-03-09T01:08:53.907628Z",
     "shell.execute_reply.started": "2023-03-09T01:08:53.900291Z"
    },
    "tags": []
   },
   "outputs": [
    {
     "data": {
      "text/plain": [
       "(2706, 17)"
      ]
     },
     "execution_count": 7,
     "metadata": {},
     "output_type": "execute_result"
    }
   ],
   "source": [
    "# 행과 열의 크기를 봅니다.(행, 열) 순\n",
    "df_krx.shape"
   ]
  },
  {
   "cell_type": "code",
   "execution_count": 16,
   "metadata": {
    "execution": {
     "iopub.execute_input": "2023-03-09T01:10:57.950198Z",
     "iopub.status.busy": "2023-03-09T01:10:57.949613Z",
     "iopub.status.idle": "2023-03-09T01:10:57.975765Z",
     "shell.execute_reply": "2023-03-09T01:10:57.974261Z",
     "shell.execute_reply.started": "2023-03-09T01:10:57.950144Z"
    },
    "tags": []
   },
   "outputs": [
    {
     "name": "stdout",
     "output_type": "stream",
     "text": [
      "<class 'pandas.core.frame.DataFrame'>\n",
      "RangeIndex: 2706 entries, 0 to 2705\n",
      "Data columns (total 17 columns):\n",
      " #   Column       Non-Null Count  Dtype  \n",
      "---  ------       --------------  -----  \n",
      " 0   Code         2706 non-null   object \n",
      " 1   ISU_CD       2706 non-null   object \n",
      " 2   Name         2706 non-null   object \n",
      " 3   Market       2706 non-null   object \n",
      " 4   Dept         2706 non-null   object \n",
      " 5   Close        2706 non-null   object \n",
      " 6   ChangeCode   2706 non-null   object \n",
      " 7   Changes      2706 non-null   int64  \n",
      " 8   ChagesRatio  2706 non-null   float64\n",
      " 9   Open         2706 non-null   int64  \n",
      " 10  High         2706 non-null   int64  \n",
      " 11  Low          2706 non-null   int64  \n",
      " 12  Volume       2706 non-null   int64  \n",
      " 13  Amount       2706 non-null   int64  \n",
      " 14  Marcap       2706 non-null   int64  \n",
      " 15  Stocks       2706 non-null   int64  \n",
      " 16  MarketId     2706 non-null   object \n",
      "dtypes: float64(1), int64(8), object(8)\n",
      "memory usage: 359.5+ KB\n"
     ]
    }
   ],
   "source": [
    "# 전체 데이터프레임의 요약정보를 봅니다.\n",
    "df_krx.info()"
   ]
  },
  {
   "cell_type": "code",
   "execution_count": 17,
   "metadata": {
    "execution": {
     "iopub.execute_input": "2023-03-08T07:28:18.531651Z",
     "iopub.status.busy": "2023-03-08T07:28:18.531027Z",
     "iopub.status.idle": "2023-03-08T07:28:18.577945Z",
     "shell.execute_reply": "2023-03-08T07:28:18.577171Z",
     "shell.execute_reply.started": "2023-03-08T07:28:18.531598Z"
    },
    "tags": []
   },
   "outputs": [
    {
     "data": {
      "text/html": [
       "<div>\n",
       "<style scoped>\n",
       "    .dataframe tbody tr th:only-of-type {\n",
       "        vertical-align: middle;\n",
       "    }\n",
       "\n",
       "    .dataframe tbody tr th {\n",
       "        vertical-align: top;\n",
       "    }\n",
       "\n",
       "    .dataframe thead th {\n",
       "        text-align: right;\n",
       "    }\n",
       "</style>\n",
       "<table border=\"1\" class=\"dataframe\">\n",
       "  <thead>\n",
       "    <tr style=\"text-align: right;\">\n",
       "      <th></th>\n",
       "      <th>Changes</th>\n",
       "      <th>ChagesRatio</th>\n",
       "      <th>Open</th>\n",
       "      <th>High</th>\n",
       "      <th>Low</th>\n",
       "      <th>Volume</th>\n",
       "      <th>Amount</th>\n",
       "      <th>Marcap</th>\n",
       "      <th>Stocks</th>\n",
       "    </tr>\n",
       "  </thead>\n",
       "  <tbody>\n",
       "    <tr>\n",
       "      <th>count</th>\n",
       "      <td>2705.000000</td>\n",
       "      <td>2705.000000</td>\n",
       "      <td>2705.000000</td>\n",
       "      <td>2705.000000</td>\n",
       "      <td>2705.000000</td>\n",
       "      <td>2.705000e+03</td>\n",
       "      <td>2.705000e+03</td>\n",
       "      <td>2.705000e+03</td>\n",
       "      <td>2.705000e+03</td>\n",
       "    </tr>\n",
       "    <tr>\n",
       "      <th>mean</th>\n",
       "      <td>-198.212200</td>\n",
       "      <td>-0.785420</td>\n",
       "      <td>21387.170425</td>\n",
       "      <td>21756.086506</td>\n",
       "      <td>20985.677634</td>\n",
       "      <td>6.190953e+05</td>\n",
       "      <td>8.253249e+09</td>\n",
       "      <td>8.538777e+11</td>\n",
       "      <td>4.210059e+07</td>\n",
       "    </tr>\n",
       "    <tr>\n",
       "      <th>std</th>\n",
       "      <td>2024.943842</td>\n",
       "      <td>3.152392</td>\n",
       "      <td>56595.297218</td>\n",
       "      <td>57176.178972</td>\n",
       "      <td>55404.863527</td>\n",
       "      <td>2.770272e+06</td>\n",
       "      <td>4.174139e+10</td>\n",
       "      <td>7.986390e+12</td>\n",
       "      <td>1.366450e+08</td>\n",
       "    </tr>\n",
       "    <tr>\n",
       "      <th>min</th>\n",
       "      <td>-39000.000000</td>\n",
       "      <td>-28.810000</td>\n",
       "      <td>0.000000</td>\n",
       "      <td>0.000000</td>\n",
       "      <td>0.000000</td>\n",
       "      <td>0.000000e+00</td>\n",
       "      <td>0.000000e+00</td>\n",
       "      <td>9.192953e+08</td>\n",
       "      <td>1.098520e+05</td>\n",
       "    </tr>\n",
       "    <tr>\n",
       "      <th>25%</th>\n",
       "      <td>-200.000000</td>\n",
       "      <td>-2.140000</td>\n",
       "      <td>2805.000000</td>\n",
       "      <td>2850.000000</td>\n",
       "      <td>2740.000000</td>\n",
       "      <td>2.142900e+04</td>\n",
       "      <td>1.391229e+08</td>\n",
       "      <td>6.090000e+10</td>\n",
       "      <td>9.872720e+06</td>\n",
       "    </tr>\n",
       "    <tr>\n",
       "      <th>50%</th>\n",
       "      <td>-50.000000</td>\n",
       "      <td>-1.020000</td>\n",
       "      <td>6900.000000</td>\n",
       "      <td>7020.000000</td>\n",
       "      <td>6760.000000</td>\n",
       "      <td>9.332400e+04</td>\n",
       "      <td>5.393972e+08</td>\n",
       "      <td>1.239796e+11</td>\n",
       "      <td>1.941113e+07</td>\n",
       "    </tr>\n",
       "    <tr>\n",
       "      <th>75%</th>\n",
       "      <td>0.000000</td>\n",
       "      <td>0.000000</td>\n",
       "      <td>16640.000000</td>\n",
       "      <td>16950.000000</td>\n",
       "      <td>16350.000000</td>\n",
       "      <td>3.342010e+05</td>\n",
       "      <td>2.826049e+09</td>\n",
       "      <td>2.993621e+11</td>\n",
       "      <td>4.031351e+07</td>\n",
       "    </tr>\n",
       "    <tr>\n",
       "      <th>max</th>\n",
       "      <td>42000.000000</td>\n",
       "      <td>29.950000</td>\n",
       "      <td>786000.000000</td>\n",
       "      <td>787000.000000</td>\n",
       "      <td>775000.000000</td>\n",
       "      <td>5.009090e+07</td>\n",
       "      <td>8.505722e+11</td>\n",
       "      <td>3.599779e+14</td>\n",
       "      <td>5.969783e+09</td>\n",
       "    </tr>\n",
       "  </tbody>\n",
       "</table>\n",
       "</div>"
      ],
      "text/plain": [
       "            Changes  ChagesRatio           Open           High            Low  \\\n",
       "count   2705.000000  2705.000000    2705.000000    2705.000000    2705.000000   \n",
       "mean    -198.212200    -0.785420   21387.170425   21756.086506   20985.677634   \n",
       "std     2024.943842     3.152392   56595.297218   57176.178972   55404.863527   \n",
       "min   -39000.000000   -28.810000       0.000000       0.000000       0.000000   \n",
       "25%     -200.000000    -2.140000    2805.000000    2850.000000    2740.000000   \n",
       "50%      -50.000000    -1.020000    6900.000000    7020.000000    6760.000000   \n",
       "75%        0.000000     0.000000   16640.000000   16950.000000   16350.000000   \n",
       "max    42000.000000    29.950000  786000.000000  787000.000000  775000.000000   \n",
       "\n",
       "             Volume        Amount        Marcap        Stocks  \n",
       "count  2.705000e+03  2.705000e+03  2.705000e+03  2.705000e+03  \n",
       "mean   6.190953e+05  8.253249e+09  8.538777e+11  4.210059e+07  \n",
       "std    2.770272e+06  4.174139e+10  7.986390e+12  1.366450e+08  \n",
       "min    0.000000e+00  0.000000e+00  9.192953e+08  1.098520e+05  \n",
       "25%    2.142900e+04  1.391229e+08  6.090000e+10  9.872720e+06  \n",
       "50%    9.332400e+04  5.393972e+08  1.239796e+11  1.941113e+07  \n",
       "75%    3.342010e+05  2.826049e+09  2.993621e+11  4.031351e+07  \n",
       "max    5.009090e+07  8.505722e+11  3.599779e+14  5.969783e+09  "
      ]
     },
     "execution_count": 17,
     "metadata": {},
     "output_type": "execute_result"
    }
   ],
   "source": [
    "# 기술통계 값을 요약합니다.\n",
    "\n",
    "df_krx.describe()"
   ]
  },
  {
   "cell_type": "markdown",
   "metadata": {},
   "source": [
    "### 파일로 저장하고 불러오기"
   ]
  },
  {
   "cell_type": "markdown",
   "metadata": {
    "execution": {
     "iopub.execute_input": "2023-03-06T09:30:51.225675Z",
     "iopub.status.busy": "2023-03-06T09:30:51.225147Z",
     "iopub.status.idle": "2023-03-06T09:30:51.233989Z",
     "shell.execute_reply": "2023-03-06T09:30:51.232236Z",
     "shell.execute_reply.started": "2023-03-06T09:30:51.225627Z"
    },
    "tags": []
   },
   "source": [
    "<img src=\"https://camo.githubusercontent.com/23b134c60ad740643c997b50c6678574fc55d2c58f793ad7407aaa02240831db/68747470733a2f2f70616e6461732e7079646174612e6f72672f646f63732f5f696d616765732f30325f696f5f7265616477726974652e737667\">"
   ]
  },
  {
   "cell_type": "code",
   "execution_count": 18,
   "metadata": {
    "execution": {
     "iopub.execute_input": "2023-03-08T07:28:29.527762Z",
     "iopub.status.busy": "2023-03-08T07:28:29.526998Z",
     "iopub.status.idle": "2023-03-08T07:28:29.551891Z",
     "shell.execute_reply": "2023-03-08T07:28:29.550879Z",
     "shell.execute_reply.started": "2023-03-08T07:28:29.527709Z"
    },
    "tags": []
   },
   "outputs": [
    {
     "data": {
      "text/html": [
       "<div>\n",
       "<style scoped>\n",
       "    .dataframe tbody tr th:only-of-type {\n",
       "        vertical-align: middle;\n",
       "    }\n",
       "\n",
       "    .dataframe tbody tr th {\n",
       "        vertical-align: top;\n",
       "    }\n",
       "\n",
       "    .dataframe thead th {\n",
       "        text-align: right;\n",
       "    }\n",
       "</style>\n",
       "<table border=\"1\" class=\"dataframe\">\n",
       "  <thead>\n",
       "    <tr style=\"text-align: right;\">\n",
       "      <th></th>\n",
       "      <th>Code</th>\n",
       "      <th>ISU_CD</th>\n",
       "      <th>Name</th>\n",
       "      <th>Market</th>\n",
       "      <th>Dept</th>\n",
       "      <th>Close</th>\n",
       "      <th>ChangeCode</th>\n",
       "      <th>Changes</th>\n",
       "      <th>ChagesRatio</th>\n",
       "      <th>Open</th>\n",
       "      <th>High</th>\n",
       "      <th>Low</th>\n",
       "      <th>Volume</th>\n",
       "      <th>Amount</th>\n",
       "      <th>Marcap</th>\n",
       "      <th>Stocks</th>\n",
       "      <th>MarketId</th>\n",
       "    </tr>\n",
       "  </thead>\n",
       "  <tbody>\n",
       "    <tr>\n",
       "      <th>0</th>\n",
       "      <td>005930</td>\n",
       "      <td>KR7005930003</td>\n",
       "      <td>삼성전자</td>\n",
       "      <td>KOSPI</td>\n",
       "      <td></td>\n",
       "      <td>60300</td>\n",
       "      <td>2</td>\n",
       "      <td>-400</td>\n",
       "      <td>-0.66</td>\n",
       "      <td>60100</td>\n",
       "      <td>60500</td>\n",
       "      <td>59900</td>\n",
       "      <td>14138677</td>\n",
       "      <td>850572162300</td>\n",
       "      <td>359977887765000</td>\n",
       "      <td>5969782550</td>\n",
       "      <td>STK</td>\n",
       "    </tr>\n",
       "    <tr>\n",
       "      <th>1</th>\n",
       "      <td>373220</td>\n",
       "      <td>KR7373220003</td>\n",
       "      <td>LG에너지솔루션</td>\n",
       "      <td>KOSPI</td>\n",
       "      <td></td>\n",
       "      <td>562000</td>\n",
       "      <td>2</td>\n",
       "      <td>-4000</td>\n",
       "      <td>-0.71</td>\n",
       "      <td>559000</td>\n",
       "      <td>569000</td>\n",
       "      <td>551000</td>\n",
       "      <td>373045</td>\n",
       "      <td>209131759000</td>\n",
       "      <td>131508000000000</td>\n",
       "      <td>234000000</td>\n",
       "      <td>STK</td>\n",
       "    </tr>\n",
       "    <tr>\n",
       "      <th>2</th>\n",
       "      <td>000660</td>\n",
       "      <td>KR7000660001</td>\n",
       "      <td>SK하이닉스</td>\n",
       "      <td>KOSPI</td>\n",
       "      <td></td>\n",
       "      <td>86800</td>\n",
       "      <td>2</td>\n",
       "      <td>-2100</td>\n",
       "      <td>-2.36</td>\n",
       "      <td>87700</td>\n",
       "      <td>87800</td>\n",
       "      <td>86400</td>\n",
       "      <td>2782920</td>\n",
       "      <td>241843530400</td>\n",
       "      <td>63190605282000</td>\n",
       "      <td>728002365</td>\n",
       "      <td>STK</td>\n",
       "    </tr>\n",
       "    <tr>\n",
       "      <th>3</th>\n",
       "      <td>207940</td>\n",
       "      <td>KR7207940008</td>\n",
       "      <td>삼성바이오로직스</td>\n",
       "      <td>KOSPI</td>\n",
       "      <td></td>\n",
       "      <td>777000</td>\n",
       "      <td>2</td>\n",
       "      <td>-17000</td>\n",
       "      <td>-2.14</td>\n",
       "      <td>786000</td>\n",
       "      <td>787000</td>\n",
       "      <td>775000</td>\n",
       "      <td>69942</td>\n",
       "      <td>54580157000</td>\n",
       "      <td>55302198000000</td>\n",
       "      <td>71174000</td>\n",
       "      <td>STK</td>\n",
       "    </tr>\n",
       "    <tr>\n",
       "      <th>4</th>\n",
       "      <td>006400</td>\n",
       "      <td>KR7006400006</td>\n",
       "      <td>삼성SDI</td>\n",
       "      <td>KOSPI</td>\n",
       "      <td></td>\n",
       "      <td>754000</td>\n",
       "      <td>2</td>\n",
       "      <td>-39000</td>\n",
       "      <td>-4.92</td>\n",
       "      <td>786000</td>\n",
       "      <td>786000</td>\n",
       "      <td>754000</td>\n",
       "      <td>464690</td>\n",
       "      <td>354960539400</td>\n",
       "      <td>51848455620000</td>\n",
       "      <td>68764530</td>\n",
       "      <td>STK</td>\n",
       "    </tr>\n",
       "  </tbody>\n",
       "</table>\n",
       "</div>"
      ],
      "text/plain": [
       "     Code        ISU_CD      Name Market Dept   Close ChangeCode  Changes  \\\n",
       "0  005930  KR7005930003      삼성전자  KOSPI        60300          2     -400   \n",
       "1  373220  KR7373220003  LG에너지솔루션  KOSPI       562000          2    -4000   \n",
       "2  000660  KR7000660001    SK하이닉스  KOSPI        86800          2    -2100   \n",
       "3  207940  KR7207940008  삼성바이오로직스  KOSPI       777000          2   -17000   \n",
       "4  006400  KR7006400006     삼성SDI  KOSPI       754000          2   -39000   \n",
       "\n",
       "   ChagesRatio    Open    High     Low    Volume        Amount  \\\n",
       "0        -0.66   60100   60500   59900  14138677  850572162300   \n",
       "1        -0.71  559000  569000  551000    373045  209131759000   \n",
       "2        -2.36   87700   87800   86400   2782920  241843530400   \n",
       "3        -2.14  786000  787000  775000     69942   54580157000   \n",
       "4        -4.92  786000  786000  754000    464690  354960539400   \n",
       "\n",
       "            Marcap      Stocks MarketId  \n",
       "0  359977887765000  5969782550      STK  \n",
       "1  131508000000000   234000000      STK  \n",
       "2   63190605282000   728002365      STK  \n",
       "3   55302198000000    71174000      STK  \n",
       "4   51848455620000    68764530      STK  "
      ]
     },
     "execution_count": 18,
     "metadata": {},
     "output_type": "execute_result"
    }
   ],
   "source": [
    "# head 로 미리보기\n",
    "df_krx.head()"
   ]
  },
  {
   "cell_type": "code",
   "execution_count": 17,
   "metadata": {
    "execution": {
     "iopub.execute_input": "2023-03-09T01:11:21.166388Z",
     "iopub.status.busy": "2023-03-09T01:11:21.165796Z",
     "iopub.status.idle": "2023-03-09T01:11:21.202490Z",
     "shell.execute_reply": "2023-03-09T01:11:21.201142Z",
     "shell.execute_reply.started": "2023-03-09T01:11:21.166332Z"
    },
    "tags": []
   },
   "outputs": [],
   "source": [
    "# to_csv로 Dataframe을 데이터 저장용 파일인 CSV 파일로 바꿀 수 있습니다.\n",
    "df_krx.to_csv(\"krx.csv\", index=False)"
   ]
  },
  {
   "cell_type": "code",
   "execution_count": 20,
   "metadata": {
    "execution": {
     "iopub.execute_input": "2023-03-08T07:28:46.019955Z",
     "iopub.status.busy": "2023-03-08T07:28:46.019374Z",
     "iopub.status.idle": "2023-03-08T07:28:46.063523Z",
     "shell.execute_reply": "2023-03-08T07:28:46.062607Z",
     "shell.execute_reply.started": "2023-03-08T07:28:46.019904Z"
    },
    "tags": []
   },
   "outputs": [
    {
     "data": {
      "text/html": [
       "<div>\n",
       "<style scoped>\n",
       "    .dataframe tbody tr th:only-of-type {\n",
       "        vertical-align: middle;\n",
       "    }\n",
       "\n",
       "    .dataframe tbody tr th {\n",
       "        vertical-align: top;\n",
       "    }\n",
       "\n",
       "    .dataframe thead th {\n",
       "        text-align: right;\n",
       "    }\n",
       "</style>\n",
       "<table border=\"1\" class=\"dataframe\">\n",
       "  <thead>\n",
       "    <tr style=\"text-align: right;\">\n",
       "      <th></th>\n",
       "      <th>Code</th>\n",
       "      <th>ISU_CD</th>\n",
       "      <th>Name</th>\n",
       "      <th>Market</th>\n",
       "      <th>Dept</th>\n",
       "      <th>Close</th>\n",
       "      <th>ChangeCode</th>\n",
       "      <th>Changes</th>\n",
       "      <th>ChagesRatio</th>\n",
       "      <th>Open</th>\n",
       "      <th>High</th>\n",
       "      <th>Low</th>\n",
       "      <th>Volume</th>\n",
       "      <th>Amount</th>\n",
       "      <th>Marcap</th>\n",
       "      <th>Stocks</th>\n",
       "      <th>MarketId</th>\n",
       "    </tr>\n",
       "  </thead>\n",
       "  <tbody>\n",
       "    <tr>\n",
       "      <th>0</th>\n",
       "      <td>005930</td>\n",
       "      <td>KR7005930003</td>\n",
       "      <td>삼성전자</td>\n",
       "      <td>KOSPI</td>\n",
       "      <td>NaN</td>\n",
       "      <td>60300</td>\n",
       "      <td>2</td>\n",
       "      <td>-400</td>\n",
       "      <td>-0.66</td>\n",
       "      <td>60100</td>\n",
       "      <td>60500</td>\n",
       "      <td>59900</td>\n",
       "      <td>14138677</td>\n",
       "      <td>850572162300</td>\n",
       "      <td>359977887765000</td>\n",
       "      <td>5969782550</td>\n",
       "      <td>STK</td>\n",
       "    </tr>\n",
       "    <tr>\n",
       "      <th>1</th>\n",
       "      <td>373220</td>\n",
       "      <td>KR7373220003</td>\n",
       "      <td>LG에너지솔루션</td>\n",
       "      <td>KOSPI</td>\n",
       "      <td>NaN</td>\n",
       "      <td>562000</td>\n",
       "      <td>2</td>\n",
       "      <td>-4000</td>\n",
       "      <td>-0.71</td>\n",
       "      <td>559000</td>\n",
       "      <td>569000</td>\n",
       "      <td>551000</td>\n",
       "      <td>373045</td>\n",
       "      <td>209131759000</td>\n",
       "      <td>131508000000000</td>\n",
       "      <td>234000000</td>\n",
       "      <td>STK</td>\n",
       "    </tr>\n",
       "    <tr>\n",
       "      <th>2</th>\n",
       "      <td>000660</td>\n",
       "      <td>KR7000660001</td>\n",
       "      <td>SK하이닉스</td>\n",
       "      <td>KOSPI</td>\n",
       "      <td>NaN</td>\n",
       "      <td>86800</td>\n",
       "      <td>2</td>\n",
       "      <td>-2100</td>\n",
       "      <td>-2.36</td>\n",
       "      <td>87700</td>\n",
       "      <td>87800</td>\n",
       "      <td>86400</td>\n",
       "      <td>2782920</td>\n",
       "      <td>241843530400</td>\n",
       "      <td>63190605282000</td>\n",
       "      <td>728002365</td>\n",
       "      <td>STK</td>\n",
       "    </tr>\n",
       "    <tr>\n",
       "      <th>3</th>\n",
       "      <td>207940</td>\n",
       "      <td>KR7207940008</td>\n",
       "      <td>삼성바이오로직스</td>\n",
       "      <td>KOSPI</td>\n",
       "      <td>NaN</td>\n",
       "      <td>777000</td>\n",
       "      <td>2</td>\n",
       "      <td>-17000</td>\n",
       "      <td>-2.14</td>\n",
       "      <td>786000</td>\n",
       "      <td>787000</td>\n",
       "      <td>775000</td>\n",
       "      <td>69942</td>\n",
       "      <td>54580157000</td>\n",
       "      <td>55302198000000</td>\n",
       "      <td>71174000</td>\n",
       "      <td>STK</td>\n",
       "    </tr>\n",
       "    <tr>\n",
       "      <th>4</th>\n",
       "      <td>006400</td>\n",
       "      <td>KR7006400006</td>\n",
       "      <td>삼성SDI</td>\n",
       "      <td>KOSPI</td>\n",
       "      <td>NaN</td>\n",
       "      <td>754000</td>\n",
       "      <td>2</td>\n",
       "      <td>-39000</td>\n",
       "      <td>-4.92</td>\n",
       "      <td>786000</td>\n",
       "      <td>786000</td>\n",
       "      <td>754000</td>\n",
       "      <td>464690</td>\n",
       "      <td>354960539400</td>\n",
       "      <td>51848455620000</td>\n",
       "      <td>68764530</td>\n",
       "      <td>STK</td>\n",
       "    </tr>\n",
       "    <tr>\n",
       "      <th>...</th>\n",
       "      <td>...</td>\n",
       "      <td>...</td>\n",
       "      <td>...</td>\n",
       "      <td>...</td>\n",
       "      <td>...</td>\n",
       "      <td>...</td>\n",
       "      <td>...</td>\n",
       "      <td>...</td>\n",
       "      <td>...</td>\n",
       "      <td>...</td>\n",
       "      <td>...</td>\n",
       "      <td>...</td>\n",
       "      <td>...</td>\n",
       "      <td>...</td>\n",
       "      <td>...</td>\n",
       "      <td>...</td>\n",
       "      <td>...</td>\n",
       "    </tr>\n",
       "    <tr>\n",
       "      <th>2700</th>\n",
       "      <td>215050</td>\n",
       "      <td>KR7215050006</td>\n",
       "      <td>비엔디생활건강</td>\n",
       "      <td>KONEX</td>\n",
       "      <td>일반기업부</td>\n",
       "      <td>912</td>\n",
       "      <td>0</td>\n",
       "      <td>0</td>\n",
       "      <td>0.00</td>\n",
       "      <td>0</td>\n",
       "      <td>0</td>\n",
       "      <td>0</td>\n",
       "      <td>0</td>\n",
       "      <td>0</td>\n",
       "      <td>1934959392</td>\n",
       "      <td>2121666</td>\n",
       "      <td>KNX</td>\n",
       "    </tr>\n",
       "    <tr>\n",
       "      <th>2701</th>\n",
       "      <td>288490</td>\n",
       "      <td>KR7288490006</td>\n",
       "      <td>나라소프트</td>\n",
       "      <td>KONEX</td>\n",
       "      <td>일반기업부</td>\n",
       "      <td>45</td>\n",
       "      <td>2</td>\n",
       "      <td>-1</td>\n",
       "      <td>-2.17</td>\n",
       "      <td>46</td>\n",
       "      <td>46</td>\n",
       "      <td>41</td>\n",
       "      <td>26879</td>\n",
       "      <td>1135097</td>\n",
       "      <td>1716615000</td>\n",
       "      <td>38147000</td>\n",
       "      <td>KNX</td>\n",
       "    </tr>\n",
       "    <tr>\n",
       "      <th>2702</th>\n",
       "      <td>267060</td>\n",
       "      <td>KR7267060002</td>\n",
       "      <td>명진홀딩스</td>\n",
       "      <td>KONEX</td>\n",
       "      <td>일반기업부</td>\n",
       "      <td>181</td>\n",
       "      <td>0</td>\n",
       "      <td>0</td>\n",
       "      <td>0.00</td>\n",
       "      <td>0</td>\n",
       "      <td>0</td>\n",
       "      <td>0</td>\n",
       "      <td>0</td>\n",
       "      <td>0</td>\n",
       "      <td>1654666524</td>\n",
       "      <td>9141804</td>\n",
       "      <td>KNX</td>\n",
       "    </tr>\n",
       "    <tr>\n",
       "      <th>2703</th>\n",
       "      <td>308700</td>\n",
       "      <td>KR7308700004</td>\n",
       "      <td>테크엔</td>\n",
       "      <td>KONEX</td>\n",
       "      <td>일반기업부</td>\n",
       "      <td>329</td>\n",
       "      <td>1</td>\n",
       "      <td>1</td>\n",
       "      <td>0.30</td>\n",
       "      <td>328</td>\n",
       "      <td>365</td>\n",
       "      <td>326</td>\n",
       "      <td>16147</td>\n",
       "      <td>5272715</td>\n",
       "      <td>1316000000</td>\n",
       "      <td>4000000</td>\n",
       "      <td>KNX</td>\n",
       "    </tr>\n",
       "    <tr>\n",
       "      <th>2704</th>\n",
       "      <td>322190</td>\n",
       "      <td>KR7322190000</td>\n",
       "      <td>베른</td>\n",
       "      <td>KONEX</td>\n",
       "      <td>일반기업부</td>\n",
       "      <td>103</td>\n",
       "      <td>1</td>\n",
       "      <td>12</td>\n",
       "      <td>13.19</td>\n",
       "      <td>104</td>\n",
       "      <td>104</td>\n",
       "      <td>95</td>\n",
       "      <td>7192</td>\n",
       "      <td>696235</td>\n",
       "      <td>919295291</td>\n",
       "      <td>8925197</td>\n",
       "      <td>KNX</td>\n",
       "    </tr>\n",
       "  </tbody>\n",
       "</table>\n",
       "<p>2705 rows × 17 columns</p>\n",
       "</div>"
      ],
      "text/plain": [
       "        Code        ISU_CD      Name Market   Dept   Close  ChangeCode  \\\n",
       "0     005930  KR7005930003      삼성전자  KOSPI    NaN   60300           2   \n",
       "1     373220  KR7373220003  LG에너지솔루션  KOSPI    NaN  562000           2   \n",
       "2     000660  KR7000660001    SK하이닉스  KOSPI    NaN   86800           2   \n",
       "3     207940  KR7207940008  삼성바이오로직스  KOSPI    NaN  777000           2   \n",
       "4     006400  KR7006400006     삼성SDI  KOSPI    NaN  754000           2   \n",
       "...      ...           ...       ...    ...    ...     ...         ...   \n",
       "2700  215050  KR7215050006   비엔디생활건강  KONEX  일반기업부     912           0   \n",
       "2701  288490  KR7288490006     나라소프트  KONEX  일반기업부      45           2   \n",
       "2702  267060  KR7267060002     명진홀딩스  KONEX  일반기업부     181           0   \n",
       "2703  308700  KR7308700004       테크엔  KONEX  일반기업부     329           1   \n",
       "2704  322190  KR7322190000        베른  KONEX  일반기업부     103           1   \n",
       "\n",
       "      Changes  ChagesRatio    Open    High     Low    Volume        Amount  \\\n",
       "0        -400        -0.66   60100   60500   59900  14138677  850572162300   \n",
       "1       -4000        -0.71  559000  569000  551000    373045  209131759000   \n",
       "2       -2100        -2.36   87700   87800   86400   2782920  241843530400   \n",
       "3      -17000        -2.14  786000  787000  775000     69942   54580157000   \n",
       "4      -39000        -4.92  786000  786000  754000    464690  354960539400   \n",
       "...       ...          ...     ...     ...     ...       ...           ...   \n",
       "2700        0         0.00       0       0       0         0             0   \n",
       "2701       -1        -2.17      46      46      41     26879       1135097   \n",
       "2702        0         0.00       0       0       0         0             0   \n",
       "2703        1         0.30     328     365     326     16147       5272715   \n",
       "2704       12        13.19     104     104      95      7192        696235   \n",
       "\n",
       "               Marcap      Stocks MarketId  \n",
       "0     359977887765000  5969782550      STK  \n",
       "1     131508000000000   234000000      STK  \n",
       "2      63190605282000   728002365      STK  \n",
       "3      55302198000000    71174000      STK  \n",
       "4      51848455620000    68764530      STK  \n",
       "...               ...         ...      ...  \n",
       "2700       1934959392     2121666      KNX  \n",
       "2701       1716615000    38147000      KNX  \n",
       "2702       1654666524     9141804      KNX  \n",
       "2703       1316000000     4000000      KNX  \n",
       "2704        919295291     8925197      KNX  \n",
       "\n",
       "[2705 rows x 17 columns]"
      ]
     },
     "execution_count": 20,
     "metadata": {},
     "output_type": "execute_result"
    }
   ],
   "source": [
    "# CSV로 저장된 파일을 다시 DataFrame으로 읽어서 확인해 봅니다.\n",
    "pd.read_csv(\"krx.csv\")"
   ]
  },
  {
   "cell_type": "markdown",
   "metadata": {
    "id": "VNyU_0nM7gDr"
   },
   "source": [
    "## 개별 종목의 일별 시세 수집\n",
    "* 종목코드로 수집이 가능합니다.\n",
    "* 종목명을 찾아서 일별 시세를 수집해 주는 함수를 만들어 볼 예정입니다."
   ]
  },
  {
   "cell_type": "code",
   "execution_count": 39,
   "metadata": {
    "execution": {
     "iopub.execute_input": "2023-03-10T01:34:51.872099Z",
     "iopub.status.busy": "2023-03-10T01:34:51.871455Z",
     "iopub.status.idle": "2023-03-10T01:34:52.100032Z",
     "shell.execute_reply": "2023-03-10T01:34:52.099089Z",
     "shell.execute_reply.started": "2023-03-10T01:34:51.872031Z"
    },
    "id": "-MWybAcD5HMT",
    "tags": []
   },
   "outputs": [
    {
     "data": {
      "text/html": [
       "<div>\n",
       "<style scoped>\n",
       "    .dataframe tbody tr th:only-of-type {\n",
       "        vertical-align: middle;\n",
       "    }\n",
       "\n",
       "    .dataframe tbody tr th {\n",
       "        vertical-align: top;\n",
       "    }\n",
       "\n",
       "    .dataframe thead th {\n",
       "        text-align: right;\n",
       "    }\n",
       "</style>\n",
       "<table border=\"1\" class=\"dataframe\">\n",
       "  <thead>\n",
       "    <tr style=\"text-align: right;\">\n",
       "      <th></th>\n",
       "      <th>Open</th>\n",
       "      <th>High</th>\n",
       "      <th>Low</th>\n",
       "      <th>Close</th>\n",
       "      <th>Volume</th>\n",
       "      <th>Change</th>\n",
       "    </tr>\n",
       "    <tr>\n",
       "      <th>Date</th>\n",
       "      <th></th>\n",
       "      <th></th>\n",
       "      <th></th>\n",
       "      <th></th>\n",
       "      <th></th>\n",
       "      <th></th>\n",
       "    </tr>\n",
       "  </thead>\n",
       "  <tbody>\n",
       "    <tr>\n",
       "      <th>2017-01-02</th>\n",
       "      <td>35980</td>\n",
       "      <td>36240</td>\n",
       "      <td>35880</td>\n",
       "      <td>36100</td>\n",
       "      <td>93012</td>\n",
       "      <td>0.001665</td>\n",
       "    </tr>\n",
       "    <tr>\n",
       "      <th>2017-01-03</th>\n",
       "      <td>36280</td>\n",
       "      <td>36620</td>\n",
       "      <td>36020</td>\n",
       "      <td>36480</td>\n",
       "      <td>147153</td>\n",
       "      <td>0.010526</td>\n",
       "    </tr>\n",
       "    <tr>\n",
       "      <th>2017-01-04</th>\n",
       "      <td>36500</td>\n",
       "      <td>36520</td>\n",
       "      <td>36100</td>\n",
       "      <td>36160</td>\n",
       "      <td>159435</td>\n",
       "      <td>-0.008772</td>\n",
       "    </tr>\n",
       "    <tr>\n",
       "      <th>2017-01-05</th>\n",
       "      <td>36060</td>\n",
       "      <td>36060</td>\n",
       "      <td>35540</td>\n",
       "      <td>35560</td>\n",
       "      <td>219349</td>\n",
       "      <td>-0.016593</td>\n",
       "    </tr>\n",
       "    <tr>\n",
       "      <th>2017-01-06</th>\n",
       "      <td>36180</td>\n",
       "      <td>36440</td>\n",
       "      <td>36040</td>\n",
       "      <td>36200</td>\n",
       "      <td>177619</td>\n",
       "      <td>0.017998</td>\n",
       "    </tr>\n",
       "    <tr>\n",
       "      <th>2017-01-09</th>\n",
       "      <td>36600</td>\n",
       "      <td>37500</td>\n",
       "      <td>36560</td>\n",
       "      <td>37220</td>\n",
       "      <td>263898</td>\n",
       "      <td>0.028177</td>\n",
       "    </tr>\n",
       "    <tr>\n",
       "      <th>2017-01-10</th>\n",
       "      <td>37280</td>\n",
       "      <td>37400</td>\n",
       "      <td>37080</td>\n",
       "      <td>37240</td>\n",
       "      <td>181996</td>\n",
       "      <td>0.000537</td>\n",
       "    </tr>\n",
       "    <tr>\n",
       "      <th>2017-01-11</th>\n",
       "      <td>37520</td>\n",
       "      <td>38560</td>\n",
       "      <td>37420</td>\n",
       "      <td>38280</td>\n",
       "      <td>240363</td>\n",
       "      <td>0.027927</td>\n",
       "    </tr>\n",
       "    <tr>\n",
       "      <th>2017-01-12</th>\n",
       "      <td>38000</td>\n",
       "      <td>38800</td>\n",
       "      <td>37980</td>\n",
       "      <td>38800</td>\n",
       "      <td>233383</td>\n",
       "      <td>0.013584</td>\n",
       "    </tr>\n",
       "    <tr>\n",
       "      <th>2017-01-13</th>\n",
       "      <td>38100</td>\n",
       "      <td>38319</td>\n",
       "      <td>37460</td>\n",
       "      <td>37460</td>\n",
       "      <td>319089</td>\n",
       "      <td>-0.034536</td>\n",
       "    </tr>\n",
       "  </tbody>\n",
       "</table>\n",
       "</div>"
      ],
      "text/plain": [
       "             Open   High    Low  Close  Volume    Change\n",
       "Date                                                    \n",
       "2017-01-02  35980  36240  35880  36100   93012  0.001665\n",
       "2017-01-03  36280  36620  36020  36480  147153  0.010526\n",
       "2017-01-04  36500  36520  36100  36160  159435 -0.008772\n",
       "2017-01-05  36060  36060  35540  35560  219349 -0.016593\n",
       "2017-01-06  36180  36440  36040  36200  177619  0.017998\n",
       "2017-01-09  36600  37500  36560  37220  263898  0.028177\n",
       "2017-01-10  37280  37400  37080  37240  181996  0.000537\n",
       "2017-01-11  37520  38560  37420  38280  240363  0.027927\n",
       "2017-01-12  38000  38800  37980  38800  233383  0.013584\n",
       "2017-01-13  38100  38319  37460  37460  319089 -0.034536"
      ]
     },
     "execution_count": 39,
     "metadata": {},
     "output_type": "execute_result"
    }
   ],
   "source": [
    "# 삼성전자, 2017년~현재 일별 시세 받아오기\n",
    "# 삼성전자의 종목 번호 '005930'\n",
    "\n",
    "df = fdr.DataReader('005930', \"2017\", \"2021\")\n",
    "df.head(10)"
   ]
  },
  {
   "cell_type": "code",
   "execution_count": 19,
   "metadata": {
    "execution": {
     "iopub.execute_input": "2023-03-09T01:12:14.877931Z",
     "iopub.status.busy": "2023-03-09T01:12:14.877343Z",
     "iopub.status.idle": "2023-03-09T01:12:14.889793Z",
     "shell.execute_reply": "2023-03-09T01:12:14.889037Z",
     "shell.execute_reply.started": "2023-03-09T01:12:14.877876Z"
    },
    "tags": []
   },
   "outputs": [
    {
     "data": {
      "text/plain": [
       "Date\n",
       "2017-06-20    47240\n",
       "2017-06-21    47740\n",
       "2017-06-22    47960\n",
       "2017-06-26    47520\n",
       "2017-06-27    48220\n",
       "              ...  \n",
       "2020-05-15    48400\n",
       "2020-05-18    47950\n",
       "2020-05-22    49600\n",
       "2020-05-25    48750\n",
       "2020-05-26    48700\n",
       "Name: Open, Length: 103, dtype: int64"
      ]
     },
     "execution_count": 19,
     "metadata": {},
     "output_type": "execute_result"
    }
   ],
   "source": [
    "df[(df[\"High\"]>48000) & (df[\"High\"]<50000)][\"Open\"]"
   ]
  },
  {
   "cell_type": "code",
   "execution_count": 20,
   "metadata": {
    "execution": {
     "iopub.execute_input": "2023-03-09T01:12:23.197024Z",
     "iopub.status.busy": "2023-03-09T01:12:23.196437Z",
     "iopub.status.idle": "2023-03-09T01:12:23.924884Z",
     "shell.execute_reply": "2023-03-09T01:12:23.924055Z",
     "shell.execute_reply.started": "2023-03-09T01:12:23.196970Z"
    },
    "tags": []
   },
   "outputs": [
    {
     "data": {
      "text/plain": [
       "<Axes: xlabel='Date'>"
      ]
     },
     "execution_count": 20,
     "metadata": {},
     "output_type": "execute_result"
    },
    {
     "data": {
      "image/png": "[encoded data removed]",
      "text/plain": [
       "<Figure size 640x480 with 1 Axes>"
      ]
     },
     "metadata": {},
     "output_type": "display_data"
    }
   ],
   "source": [
    "df[(df[\"High\"]>48000) & (df[\"High\"]<50000)][\"Open\"].plot()"
   ]
  },
  {
   "cell_type": "code",
   "execution_count": 22,
   "metadata": {
    "execution": {
     "iopub.execute_input": "2023-03-09T01:12:36.312728Z",
     "iopub.status.busy": "2023-03-09T01:12:36.312145Z",
     "iopub.status.idle": "2023-03-09T01:12:36.647977Z",
     "shell.execute_reply": "2023-03-09T01:12:36.647271Z",
     "shell.execute_reply.started": "2023-03-09T01:12:36.312675Z"
    },
    "tags": []
   },
   "outputs": [
    {
     "data": {
      "text/plain": [
       "<Axes: xlabel='Date'>"
      ]
     },
     "execution_count": 22,
     "metadata": {},
     "output_type": "execute_result"
    },
    {
     "data": {
      "image/png": "[encoded data removed]",
      "text/plain": [
       "<Figure size 640x480 with 1 Axes>"
      ]
     },
     "metadata": {},
     "output_type": "display_data"
    }
   ],
   "source": [
    "df[\"Close\"].plot()\n",
    "#df[\"Open\"].plot()"
   ]
  },
  {
   "cell_type": "code",
   "execution_count": null,
   "metadata": {},
   "outputs": [],
   "source": []
  },
  {
   "cell_type": "markdown",
   "metadata": {
    "id": "h7T4gW_W-FmZ"
   },
   "source": [
    "## 상장종목 목록 가져오기"
   ]
  },
  {
   "cell_type": "code",
   "execution_count": 23,
   "metadata": {
    "execution": {
     "iopub.execute_input": "2023-03-09T01:12:47.040097Z",
     "iopub.status.busy": "2023-03-09T01:12:47.039503Z",
     "iopub.status.idle": "2023-03-09T01:12:47.066702Z",
     "shell.execute_reply": "2023-03-09T01:12:47.065826Z",
     "shell.execute_reply.started": "2023-03-09T01:12:47.040042Z"
    },
    "id": "gWgVQdSx5HMT",
    "tags": []
   },
   "outputs": [
    {
     "data": {
      "text/plain": [
       "(2706, 17)"
      ]
     },
     "execution_count": 23,
     "metadata": {},
     "output_type": "execute_result"
    }
   ],
   "source": [
    "# 위에서 저장해 놓았던 csv 파일로 분석을 합니다.\n",
    "# colab 사용자의 경우 이미 csv 파일이 지워졌을 수 있기 때문에 파일이 없을 경우 아래 셀에서 다시 load하면 됩니다.\n",
    "df_krx = pd.read_csv(\"krx.csv\")\n",
    "df_krx.shape"
   ]
  },
  {
   "cell_type": "code",
   "execution_count": 17,
   "metadata": {
    "execution": {
     "iopub.execute_input": "2023-03-06T09:34:20.213367Z",
     "iopub.status.busy": "2023-03-06T09:34:20.213061Z",
     "iopub.status.idle": "2023-03-06T09:34:20.218120Z",
     "shell.execute_reply": "2023-03-06T09:34:20.217112Z",
     "shell.execute_reply.started": "2023-03-06T09:34:20.213337Z"
    },
    "id": "muwUkDSF5HMT",
    "tags": []
   },
   "outputs": [],
   "source": [
    "# 위 CSV 파일이 로드되지 않아 당황스러우신가요? 그럼 아래 주석을 풀고 다시 KRX 데이터를 받아오세요.\n",
    "# colab의 경우 일정 시간이 지나면 런타임이 초기화 되기 때문에 다시 로드하면 데이터를 가져올 수 있습니다.\n",
    "# df_krx = fdr.StockListing('KRX')"
   ]
  },
  {
   "cell_type": "markdown",
   "metadata": {
    "id": "hbBmLbpY7vKY"
   },
   "source": [
    "## 상장종목 목록 사용하기\n",
    "* 종목명과 심볼을 찾기 위해 상장종목 목록을 사용합니다."
   ]
  },
  {
   "cell_type": "code",
   "execution_count": 69,
   "metadata": {
    "execution": {
     "iopub.execute_input": "2023-03-08T12:51:53.773834Z",
     "iopub.status.busy": "2023-03-08T12:51:53.773465Z",
     "iopub.status.idle": "2023-03-08T12:51:53.787761Z",
     "shell.execute_reply": "2023-03-08T12:51:53.786847Z",
     "shell.execute_reply.started": "2023-03-08T12:51:53.773802Z"
    },
    "id": "U0n_cZGA5HMT",
    "tags": []
   },
   "outputs": [
    {
     "data": {
      "text/html": [
       "<div>\n",
       "<style scoped>\n",
       "    .dataframe tbody tr th:only-of-type {\n",
       "        vertical-align: middle;\n",
       "    }\n",
       "\n",
       "    .dataframe tbody tr th {\n",
       "        vertical-align: top;\n",
       "    }\n",
       "\n",
       "    .dataframe thead th {\n",
       "        text-align: right;\n",
       "    }\n",
       "</style>\n",
       "<table border=\"1\" class=\"dataframe\">\n",
       "  <thead>\n",
       "    <tr style=\"text-align: right;\">\n",
       "      <th></th>\n",
       "      <th>Code</th>\n",
       "      <th>Name</th>\n",
       "    </tr>\n",
       "  </thead>\n",
       "  <tbody>\n",
       "    <tr>\n",
       "      <th>0</th>\n",
       "      <td>005930</td>\n",
       "      <td>삼성전자</td>\n",
       "    </tr>\n",
       "    <tr>\n",
       "      <th>1</th>\n",
       "      <td>373220</td>\n",
       "      <td>LG에너지솔루션</td>\n",
       "    </tr>\n",
       "    <tr>\n",
       "      <th>2</th>\n",
       "      <td>000660</td>\n",
       "      <td>SK하이닉스</td>\n",
       "    </tr>\n",
       "    <tr>\n",
       "      <th>3</th>\n",
       "      <td>207940</td>\n",
       "      <td>삼성바이오로직스</td>\n",
       "    </tr>\n",
       "    <tr>\n",
       "      <th>4</th>\n",
       "      <td>006400</td>\n",
       "      <td>삼성SDI</td>\n",
       "    </tr>\n",
       "  </tbody>\n",
       "</table>\n",
       "</div>"
      ],
      "text/plain": [
       "     Code      Name\n",
       "0  005930      삼성전자\n",
       "1  373220  LG에너지솔루션\n",
       "2  000660    SK하이닉스\n",
       "3  207940  삼성바이오로직스\n",
       "4  006400     삼성SDI"
      ]
     },
     "execution_count": 69,
     "metadata": {},
     "output_type": "execute_result"
    }
   ],
   "source": [
    "# DataFrame 에 어떤 데이터가 들어있는 head()로 일부 데이터만 가져와 봅니다.\n",
    "df_krx[[\"Code\", \"Name\"]].head()"
   ]
  },
  {
   "cell_type": "markdown",
   "metadata": {},
   "source": [
    "<font color=\"red\">빅히트 사명이 하이브로 변경되었습니다. 하이브로 실습해 주세요.</font>"
   ]
  },
  {
   "cell_type": "markdown",
   "metadata": {
    "id": "vaM5_Hkd5HMU"
   },
   "source": [
    "## 종목명으로 종목 코드를 받아오는 함수 만들기"
   ]
  },
  {
   "cell_type": "code",
   "execution_count": 40,
   "metadata": {
    "execution": {
     "iopub.execute_input": "2023-03-10T01:35:31.742928Z",
     "iopub.status.busy": "2023-03-10T01:35:31.742329Z",
     "iopub.status.idle": "2023-03-10T01:35:31.752759Z",
     "shell.execute_reply": "2023-03-10T01:35:31.751382Z",
     "shell.execute_reply.started": "2023-03-10T01:35:31.742873Z"
    },
    "id": "6EB27Rkx5HMU",
    "tags": []
   },
   "outputs": [],
   "source": [
    "# 종목명으로 종목코드 받아오는 함수 만들기\n",
    "# df_krx의 Name column에서 같은 값이 있으면 \n",
    "# row의 Symbol column의 값을 list로 name_list에 저장하기\n",
    "# item_code_by_item_name 함수를 만듭니다.\n",
    "\n",
    "def item_code_by_item_name(item_name):\n",
    "    \"\"\"\n",
    "    종목명을 받아 종목코드를 찾아 반환하는 함수\n",
    "    \"\"\"\n",
    "    item_code_list = df_krx.loc[df_krx[\"Name\"] == item_name, \"Code\"].tolist()\n",
    "    if len(item_code_list) > 0:\n",
    "        item_code = item_code_list[0]\n",
    "        return item_code\n",
    "    else:\n",
    "        return False"
   ]
  },
  {
   "cell_type": "code",
   "execution_count": 41,
   "metadata": {
    "execution": {
     "iopub.execute_input": "2023-03-10T01:35:34.938490Z",
     "iopub.status.busy": "2023-03-10T01:35:34.937897Z",
     "iopub.status.idle": "2023-03-10T01:35:34.949625Z",
     "shell.execute_reply": "2023-03-10T01:35:34.948360Z",
     "shell.execute_reply.started": "2023-03-10T01:35:34.938436Z"
    },
    "tags": []
   },
   "outputs": [
    {
     "data": {
      "text/plain": [
       "'352820'"
      ]
     },
     "execution_count": 41,
     "metadata": {},
     "output_type": "execute_result"
    }
   ],
   "source": [
    "item_code_by_item_name(\"하이브\")"
   ]
  },
  {
   "cell_type": "code",
   "execution_count": 27,
   "metadata": {
    "execution": {
     "iopub.execute_input": "2023-03-09T01:13:44.164896Z",
     "iopub.status.busy": "2023-03-09T01:13:44.164298Z",
     "iopub.status.idle": "2023-03-09T01:13:44.174696Z",
     "shell.execute_reply": "2023-03-09T01:13:44.173512Z",
     "shell.execute_reply.started": "2023-03-09T01:13:44.164842Z"
    },
    "id": "oMwl2Dzq5HMU",
    "tags": []
   },
   "outputs": [
    {
     "data": {
      "text/plain": [
       "False"
      ]
     },
     "execution_count": 27,
     "metadata": {},
     "output_type": "execute_result"
    }
   ],
   "source": [
    "# 네이버로 등록된 상장사는 없습니다.\n",
    "# 잘못 입력된 텍스트에 대해 예외처리를 하는지 확인합니다.\n",
    "item_code_by_item_name(\"네이버\")"
   ]
  },
  {
   "cell_type": "code",
   "execution_count": 28,
   "metadata": {
    "execution": {
     "iopub.execute_input": "2023-03-09T01:13:48.638896Z",
     "iopub.status.busy": "2023-03-09T01:13:48.638287Z",
     "iopub.status.idle": "2023-03-09T01:13:48.648990Z",
     "shell.execute_reply": "2023-03-09T01:13:48.647600Z",
     "shell.execute_reply.started": "2023-03-09T01:13:48.638842Z"
    },
    "id": "p8uKKoLUPwVK",
    "tags": []
   },
   "outputs": [
    {
     "data": {
      "text/plain": [
       "'035420'"
      ]
     },
     "execution_count": 28,
     "metadata": {},
     "output_type": "execute_result"
    }
   ],
   "source": [
    "# 네이버는 NAVER로 등록되어 있습니다.\n",
    "item_code_by_item_name(\"NAVER\")"
   ]
  },
  {
   "cell_type": "markdown",
   "metadata": {
    "id": "Wwe4qoor5HMU"
   },
   "source": [
    "## 종목명으로 일별시세를 받아오는 함수 만들기"
   ]
  },
  {
   "cell_type": "code",
   "execution_count": 42,
   "metadata": {
    "execution": {
     "iopub.execute_input": "2023-03-10T01:35:39.718682Z",
     "iopub.status.busy": "2023-03-10T01:35:39.718089Z",
     "iopub.status.idle": "2023-03-10T01:35:39.727579Z",
     "shell.execute_reply": "2023-03-10T01:35:39.726146Z",
     "shell.execute_reply.started": "2023-03-10T01:35:39.718628Z"
    },
    "id": "GRQLNGdv5HMU",
    "tags": []
   },
   "outputs": [],
   "source": [
    "# item_code_by_item_name : 종목명으로 종목번호 가져오기\n",
    "# find_item_list : 종목번호로 해당연도 데이터 가져오기\n",
    "# find_item_list는 year 값이 없으면 기본으로 2020년 데이터를 선택\n",
    "\n",
    "def find_item_list(item_name, year=2020):\n",
    "    \"\"\"\n",
    "    종목명을 넘겨주면 일별시세를 반환하는 함수\n",
    "    내부에서 종목명으로 종목코드를 반환하는 함수(item_code_by_item_name)로\n",
    "    종목의 시세를 수집합니다.\n",
    "    \"\"\"\n",
    "    item_code = item_code_by_item_name(item_name)\n",
    "    if item_code:\n",
    "        df_day = fdr.DataReader(item_code, str(year))\n",
    "        return df_day\n",
    "    else:\n",
    "        return False"
   ]
  },
  {
   "cell_type": "code",
   "execution_count": 43,
   "metadata": {
    "execution": {
     "iopub.execute_input": "2023-03-10T01:35:55.706560Z",
     "iopub.status.busy": "2023-03-10T01:35:55.705971Z",
     "iopub.status.idle": "2023-03-10T01:35:55.905226Z",
     "shell.execute_reply": "2023-03-10T01:35:55.904001Z",
     "shell.execute_reply.started": "2023-03-10T01:35:55.706506Z"
    },
    "tags": []
   },
   "outputs": [],
   "source": [
    "ndr=find_item_list(\"NAVER\", 2021)"
   ]
  },
  {
   "cell_type": "code",
   "execution_count": 31,
   "metadata": {
    "execution": {
     "iopub.execute_input": "2023-03-09T01:14:24.539867Z",
     "iopub.status.busy": "2023-03-09T01:14:24.539353Z",
     "iopub.status.idle": "2023-03-09T01:14:24.559301Z",
     "shell.execute_reply": "2023-03-09T01:14:24.558083Z",
     "shell.execute_reply.started": "2023-03-09T01:14:24.539814Z"
    },
    "tags": []
   },
   "outputs": [
    {
     "data": {
      "text/html": [
       "<div>\n",
       "<style scoped>\n",
       "    .dataframe tbody tr th:only-of-type {\n",
       "        vertical-align: middle;\n",
       "    }\n",
       "\n",
       "    .dataframe tbody tr th {\n",
       "        vertical-align: top;\n",
       "    }\n",
       "\n",
       "    .dataframe thead th {\n",
       "        text-align: right;\n",
       "    }\n",
       "</style>\n",
       "<table border=\"1\" class=\"dataframe\">\n",
       "  <thead>\n",
       "    <tr style=\"text-align: right;\">\n",
       "      <th></th>\n",
       "      <th>Open</th>\n",
       "      <th>High</th>\n",
       "      <th>Low</th>\n",
       "      <th>Close</th>\n",
       "      <th>Volume</th>\n",
       "      <th>Change</th>\n",
       "    </tr>\n",
       "    <tr>\n",
       "      <th>Date</th>\n",
       "      <th></th>\n",
       "      <th></th>\n",
       "      <th></th>\n",
       "      <th></th>\n",
       "      <th></th>\n",
       "      <th></th>\n",
       "    </tr>\n",
       "  </thead>\n",
       "  <tbody>\n",
       "    <tr>\n",
       "      <th>2021-01-04</th>\n",
       "      <td>291500</td>\n",
       "      <td>294000</td>\n",
       "      <td>285500</td>\n",
       "      <td>293000</td>\n",
       "      <td>947178</td>\n",
       "      <td>0.001709</td>\n",
       "    </tr>\n",
       "    <tr>\n",
       "      <th>2021-01-05</th>\n",
       "      <td>291500</td>\n",
       "      <td>292500</td>\n",
       "      <td>286500</td>\n",
       "      <td>292500</td>\n",
       "      <td>912657</td>\n",
       "      <td>-0.001706</td>\n",
       "    </tr>\n",
       "    <tr>\n",
       "      <th>2021-01-06</th>\n",
       "      <td>292500</td>\n",
       "      <td>300500</td>\n",
       "      <td>289500</td>\n",
       "      <td>290000</td>\n",
       "      <td>1375856</td>\n",
       "      <td>-0.008547</td>\n",
       "    </tr>\n",
       "    <tr>\n",
       "      <th>2021-01-07</th>\n",
       "      <td>288500</td>\n",
       "      <td>292000</td>\n",
       "      <td>286500</td>\n",
       "      <td>289500</td>\n",
       "      <td>1155734</td>\n",
       "      <td>-0.001724</td>\n",
       "    </tr>\n",
       "    <tr>\n",
       "      <th>2021-01-08</th>\n",
       "      <td>293500</td>\n",
       "      <td>312000</td>\n",
       "      <td>290000</td>\n",
       "      <td>312000</td>\n",
       "      <td>3175396</td>\n",
       "      <td>0.077720</td>\n",
       "    </tr>\n",
       "    <tr>\n",
       "      <th>...</th>\n",
       "      <td>...</td>\n",
       "      <td>...</td>\n",
       "      <td>...</td>\n",
       "      <td>...</td>\n",
       "      <td>...</td>\n",
       "      <td>...</td>\n",
       "    </tr>\n",
       "    <tr>\n",
       "      <th>2023-03-03</th>\n",
       "      <td>207500</td>\n",
       "      <td>210500</td>\n",
       "      <td>205500</td>\n",
       "      <td>205500</td>\n",
       "      <td>729689</td>\n",
       "      <td>-0.002427</td>\n",
       "    </tr>\n",
       "    <tr>\n",
       "      <th>2023-03-06</th>\n",
       "      <td>208500</td>\n",
       "      <td>214500</td>\n",
       "      <td>208500</td>\n",
       "      <td>214500</td>\n",
       "      <td>1052243</td>\n",
       "      <td>0.043796</td>\n",
       "    </tr>\n",
       "    <tr>\n",
       "      <th>2023-03-07</th>\n",
       "      <td>214000</td>\n",
       "      <td>214500</td>\n",
       "      <td>210500</td>\n",
       "      <td>211000</td>\n",
       "      <td>640146</td>\n",
       "      <td>-0.016317</td>\n",
       "    </tr>\n",
       "    <tr>\n",
       "      <th>2023-03-08</th>\n",
       "      <td>208500</td>\n",
       "      <td>209000</td>\n",
       "      <td>202000</td>\n",
       "      <td>202500</td>\n",
       "      <td>1027023</td>\n",
       "      <td>-0.040284</td>\n",
       "    </tr>\n",
       "    <tr>\n",
       "      <th>2023-03-09</th>\n",
       "      <td>204500</td>\n",
       "      <td>206000</td>\n",
       "      <td>202000</td>\n",
       "      <td>203000</td>\n",
       "      <td>248231</td>\n",
       "      <td>0.002469</td>\n",
       "    </tr>\n",
       "  </tbody>\n",
       "</table>\n",
       "<p>540 rows × 6 columns</p>\n",
       "</div>"
      ],
      "text/plain": [
       "              Open    High     Low   Close   Volume    Change\n",
       "Date                                                         \n",
       "2021-01-04  291500  294000  285500  293000   947178  0.001709\n",
       "2021-01-05  291500  292500  286500  292500   912657 -0.001706\n",
       "2021-01-06  292500  300500  289500  290000  1375856 -0.008547\n",
       "2021-01-07  288500  292000  286500  289500  1155734 -0.001724\n",
       "2021-01-08  293500  312000  290000  312000  3175396  0.077720\n",
       "...            ...     ...     ...     ...      ...       ...\n",
       "2023-03-03  207500  210500  205500  205500   729689 -0.002427\n",
       "2023-03-06  208500  214500  208500  214500  1052243  0.043796\n",
       "2023-03-07  214000  214500  210500  211000   640146 -0.016317\n",
       "2023-03-08  208500  209000  202000  202500  1027023 -0.040284\n",
       "2023-03-09  204500  206000  202000  203000   248231  0.002469\n",
       "\n",
       "[540 rows x 6 columns]"
      ]
     },
     "execution_count": 31,
     "metadata": {},
     "output_type": "execute_result"
    }
   ],
   "source": [
    "ndr"
   ]
  },
  {
   "cell_type": "code",
   "execution_count": 32,
   "metadata": {
    "execution": {
     "iopub.execute_input": "2023-03-09T01:14:50.140200Z",
     "iopub.status.busy": "2023-03-09T01:14:50.139571Z",
     "iopub.status.idle": "2023-03-09T01:14:50.162720Z",
     "shell.execute_reply": "2023-03-09T01:14:50.161483Z",
     "shell.execute_reply.started": "2023-03-09T01:14:50.140145Z"
    },
    "tags": []
   },
   "outputs": [
    {
     "data": {
      "text/html": [
       "<div>\n",
       "<style scoped>\n",
       "    .dataframe tbody tr th:only-of-type {\n",
       "        vertical-align: middle;\n",
       "    }\n",
       "\n",
       "    .dataframe tbody tr th {\n",
       "        vertical-align: top;\n",
       "    }\n",
       "\n",
       "    .dataframe thead th {\n",
       "        text-align: right;\n",
       "    }\n",
       "</style>\n",
       "<table border=\"1\" class=\"dataframe\">\n",
       "  <thead>\n",
       "    <tr style=\"text-align: right;\">\n",
       "      <th></th>\n",
       "      <th>Open</th>\n",
       "      <th>High</th>\n",
       "      <th>Low</th>\n",
       "      <th>Close</th>\n",
       "      <th>Volume</th>\n",
       "      <th>Change</th>\n",
       "    </tr>\n",
       "    <tr>\n",
       "      <th>Date</th>\n",
       "      <th></th>\n",
       "      <th></th>\n",
       "      <th></th>\n",
       "      <th></th>\n",
       "      <th></th>\n",
       "      <th></th>\n",
       "    </tr>\n",
       "  </thead>\n",
       "  <tbody>\n",
       "    <tr>\n",
       "      <th>2023-01-05</th>\n",
       "      <td>184500</td>\n",
       "      <td>190000</td>\n",
       "      <td>184000</td>\n",
       "      <td>186000</td>\n",
       "      <td>1107483</td>\n",
       "      <td>0.019178</td>\n",
       "    </tr>\n",
       "    <tr>\n",
       "      <th>2023-01-06</th>\n",
       "      <td>185500</td>\n",
       "      <td>187000</td>\n",
       "      <td>182500</td>\n",
       "      <td>185000</td>\n",
       "      <td>741129</td>\n",
       "      <td>-0.005376</td>\n",
       "    </tr>\n",
       "    <tr>\n",
       "      <th>2023-01-09</th>\n",
       "      <td>189500</td>\n",
       "      <td>196500</td>\n",
       "      <td>189000</td>\n",
       "      <td>196500</td>\n",
       "      <td>1115201</td>\n",
       "      <td>0.062162</td>\n",
       "    </tr>\n",
       "    <tr>\n",
       "      <th>2023-01-10</th>\n",
       "      <td>193000</td>\n",
       "      <td>196000</td>\n",
       "      <td>190500</td>\n",
       "      <td>193000</td>\n",
       "      <td>839225</td>\n",
       "      <td>-0.017812</td>\n",
       "    </tr>\n",
       "    <tr>\n",
       "      <th>2023-01-11</th>\n",
       "      <td>197500</td>\n",
       "      <td>200500</td>\n",
       "      <td>194500</td>\n",
       "      <td>195000</td>\n",
       "      <td>1030650</td>\n",
       "      <td>0.010363</td>\n",
       "    </tr>\n",
       "    <tr>\n",
       "      <th>2023-01-12</th>\n",
       "      <td>198000</td>\n",
       "      <td>199000</td>\n",
       "      <td>194000</td>\n",
       "      <td>194000</td>\n",
       "      <td>797343</td>\n",
       "      <td>-0.005128</td>\n",
       "    </tr>\n",
       "    <tr>\n",
       "      <th>2023-01-13</th>\n",
       "      <td>196000</td>\n",
       "      <td>200500</td>\n",
       "      <td>195000</td>\n",
       "      <td>195000</td>\n",
       "      <td>869459</td>\n",
       "      <td>0.005155</td>\n",
       "    </tr>\n",
       "    <tr>\n",
       "      <th>2023-01-16</th>\n",
       "      <td>197000</td>\n",
       "      <td>201000</td>\n",
       "      <td>195000</td>\n",
       "      <td>200500</td>\n",
       "      <td>846276</td>\n",
       "      <td>0.028205</td>\n",
       "    </tr>\n",
       "    <tr>\n",
       "      <th>2023-01-17</th>\n",
       "      <td>201000</td>\n",
       "      <td>201000</td>\n",
       "      <td>193500</td>\n",
       "      <td>193500</td>\n",
       "      <td>976576</td>\n",
       "      <td>-0.034913</td>\n",
       "    </tr>\n",
       "    <tr>\n",
       "      <th>2023-01-18</th>\n",
       "      <td>194000</td>\n",
       "      <td>196000</td>\n",
       "      <td>193000</td>\n",
       "      <td>195500</td>\n",
       "      <td>518929</td>\n",
       "      <td>0.010336</td>\n",
       "    </tr>\n",
       "    <tr>\n",
       "      <th>2023-01-19</th>\n",
       "      <td>194000</td>\n",
       "      <td>196500</td>\n",
       "      <td>192500</td>\n",
       "      <td>196000</td>\n",
       "      <td>475600</td>\n",
       "      <td>0.002558</td>\n",
       "    </tr>\n",
       "    <tr>\n",
       "      <th>2023-01-20</th>\n",
       "      <td>195500</td>\n",
       "      <td>201000</td>\n",
       "      <td>195000</td>\n",
       "      <td>196000</td>\n",
       "      <td>787881</td>\n",
       "      <td>0.000000</td>\n",
       "    </tr>\n",
       "    <tr>\n",
       "      <th>2023-01-25</th>\n",
       "      <td>200500</td>\n",
       "      <td>203500</td>\n",
       "      <td>199600</td>\n",
       "      <td>202000</td>\n",
       "      <td>988822</td>\n",
       "      <td>0.030612</td>\n",
       "    </tr>\n",
       "    <tr>\n",
       "      <th>2023-01-26</th>\n",
       "      <td>202500</td>\n",
       "      <td>204000</td>\n",
       "      <td>199900</td>\n",
       "      <td>204000</td>\n",
       "      <td>873219</td>\n",
       "      <td>0.009901</td>\n",
       "    </tr>\n",
       "    <tr>\n",
       "      <th>2023-01-27</th>\n",
       "      <td>204500</td>\n",
       "      <td>211500</td>\n",
       "      <td>202000</td>\n",
       "      <td>211500</td>\n",
       "      <td>1212987</td>\n",
       "      <td>0.036765</td>\n",
       "    </tr>\n",
       "    <tr>\n",
       "      <th>2023-01-30</th>\n",
       "      <td>212000</td>\n",
       "      <td>214000</td>\n",
       "      <td>206500</td>\n",
       "      <td>207000</td>\n",
       "      <td>1204050</td>\n",
       "      <td>-0.021277</td>\n",
       "    </tr>\n",
       "    <tr>\n",
       "      <th>2023-01-31</th>\n",
       "      <td>206000</td>\n",
       "      <td>208500</td>\n",
       "      <td>202000</td>\n",
       "      <td>202500</td>\n",
       "      <td>1076468</td>\n",
       "      <td>-0.021739</td>\n",
       "    </tr>\n",
       "    <tr>\n",
       "      <th>2023-02-01</th>\n",
       "      <td>204500</td>\n",
       "      <td>208500</td>\n",
       "      <td>202500</td>\n",
       "      <td>205500</td>\n",
       "      <td>860204</td>\n",
       "      <td>0.014815</td>\n",
       "    </tr>\n",
       "    <tr>\n",
       "      <th>2023-02-02</th>\n",
       "      <td>213000</td>\n",
       "      <td>213500</td>\n",
       "      <td>210500</td>\n",
       "      <td>211500</td>\n",
       "      <td>1245591</td>\n",
       "      <td>0.029197</td>\n",
       "    </tr>\n",
       "    <tr>\n",
       "      <th>2023-02-03</th>\n",
       "      <td>214000</td>\n",
       "      <td>225500</td>\n",
       "      <td>210500</td>\n",
       "      <td>223500</td>\n",
       "      <td>3065767</td>\n",
       "      <td>0.056738</td>\n",
       "    </tr>\n",
       "    <tr>\n",
       "      <th>2023-02-06</th>\n",
       "      <td>221000</td>\n",
       "      <td>224500</td>\n",
       "      <td>215500</td>\n",
       "      <td>215500</td>\n",
       "      <td>1390741</td>\n",
       "      <td>-0.035794</td>\n",
       "    </tr>\n",
       "    <tr>\n",
       "      <th>2023-02-07</th>\n",
       "      <td>216000</td>\n",
       "      <td>220500</td>\n",
       "      <td>215000</td>\n",
       "      <td>219500</td>\n",
       "      <td>1041746</td>\n",
       "      <td>0.018561</td>\n",
       "    </tr>\n",
       "    <tr>\n",
       "      <th>2023-02-08</th>\n",
       "      <td>224500</td>\n",
       "      <td>232000</td>\n",
       "      <td>224000</td>\n",
       "      <td>230500</td>\n",
       "      <td>1777709</td>\n",
       "      <td>0.050114</td>\n",
       "    </tr>\n",
       "    <tr>\n",
       "      <th>2023-02-09</th>\n",
       "      <td>224500</td>\n",
       "      <td>230500</td>\n",
       "      <td>224000</td>\n",
       "      <td>230000</td>\n",
       "      <td>1575905</td>\n",
       "      <td>-0.002169</td>\n",
       "    </tr>\n",
       "    <tr>\n",
       "      <th>2023-02-10</th>\n",
       "      <td>226000</td>\n",
       "      <td>230500</td>\n",
       "      <td>222000</td>\n",
       "      <td>230000</td>\n",
       "      <td>1412939</td>\n",
       "      <td>0.000000</td>\n",
       "    </tr>\n",
       "    <tr>\n",
       "      <th>2023-02-13</th>\n",
       "      <td>231000</td>\n",
       "      <td>231000</td>\n",
       "      <td>220500</td>\n",
       "      <td>223000</td>\n",
       "      <td>1308899</td>\n",
       "      <td>-0.030435</td>\n",
       "    </tr>\n",
       "    <tr>\n",
       "      <th>2023-02-14</th>\n",
       "      <td>226500</td>\n",
       "      <td>228500</td>\n",
       "      <td>223000</td>\n",
       "      <td>224000</td>\n",
       "      <td>745937</td>\n",
       "      <td>0.004484</td>\n",
       "    </tr>\n",
       "    <tr>\n",
       "      <th>2023-02-15</th>\n",
       "      <td>224500</td>\n",
       "      <td>224500</td>\n",
       "      <td>215000</td>\n",
       "      <td>215500</td>\n",
       "      <td>1424562</td>\n",
       "      <td>-0.037946</td>\n",
       "    </tr>\n",
       "    <tr>\n",
       "      <th>2023-02-16</th>\n",
       "      <td>218000</td>\n",
       "      <td>222500</td>\n",
       "      <td>218000</td>\n",
       "      <td>220500</td>\n",
       "      <td>959443</td>\n",
       "      <td>0.023202</td>\n",
       "    </tr>\n",
       "    <tr>\n",
       "      <th>2023-02-17</th>\n",
       "      <td>216000</td>\n",
       "      <td>219000</td>\n",
       "      <td>212000</td>\n",
       "      <td>215500</td>\n",
       "      <td>904481</td>\n",
       "      <td>-0.022676</td>\n",
       "    </tr>\n",
       "    <tr>\n",
       "      <th>2023-02-20</th>\n",
       "      <td>215500</td>\n",
       "      <td>220000</td>\n",
       "      <td>213500</td>\n",
       "      <td>219000</td>\n",
       "      <td>571053</td>\n",
       "      <td>0.016241</td>\n",
       "    </tr>\n",
       "    <tr>\n",
       "      <th>2023-02-21</th>\n",
       "      <td>220500</td>\n",
       "      <td>220500</td>\n",
       "      <td>215000</td>\n",
       "      <td>215500</td>\n",
       "      <td>646501</td>\n",
       "      <td>-0.015982</td>\n",
       "    </tr>\n",
       "    <tr>\n",
       "      <th>2023-02-22</th>\n",
       "      <td>211500</td>\n",
       "      <td>213500</td>\n",
       "      <td>210500</td>\n",
       "      <td>211500</td>\n",
       "      <td>820639</td>\n",
       "      <td>-0.018561</td>\n",
       "    </tr>\n",
       "    <tr>\n",
       "      <th>2023-02-23</th>\n",
       "      <td>212000</td>\n",
       "      <td>214500</td>\n",
       "      <td>211000</td>\n",
       "      <td>213500</td>\n",
       "      <td>563669</td>\n",
       "      <td>0.009456</td>\n",
       "    </tr>\n",
       "    <tr>\n",
       "      <th>2023-02-24</th>\n",
       "      <td>213500</td>\n",
       "      <td>214000</td>\n",
       "      <td>207000</td>\n",
       "      <td>208000</td>\n",
       "      <td>851405</td>\n",
       "      <td>-0.025761</td>\n",
       "    </tr>\n",
       "    <tr>\n",
       "      <th>2023-02-27</th>\n",
       "      <td>204000</td>\n",
       "      <td>209000</td>\n",
       "      <td>204000</td>\n",
       "      <td>208000</td>\n",
       "      <td>930467</td>\n",
       "      <td>0.000000</td>\n",
       "    </tr>\n",
       "    <tr>\n",
       "      <th>2023-02-28</th>\n",
       "      <td>209500</td>\n",
       "      <td>212000</td>\n",
       "      <td>207500</td>\n",
       "      <td>208500</td>\n",
       "      <td>848323</td>\n",
       "      <td>0.002404</td>\n",
       "    </tr>\n",
       "    <tr>\n",
       "      <th>2023-03-02</th>\n",
       "      <td>207500</td>\n",
       "      <td>209500</td>\n",
       "      <td>205000</td>\n",
       "      <td>206000</td>\n",
       "      <td>817689</td>\n",
       "      <td>-0.011990</td>\n",
       "    </tr>\n",
       "    <tr>\n",
       "      <th>2023-03-03</th>\n",
       "      <td>207500</td>\n",
       "      <td>210500</td>\n",
       "      <td>205500</td>\n",
       "      <td>205500</td>\n",
       "      <td>729689</td>\n",
       "      <td>-0.002427</td>\n",
       "    </tr>\n",
       "    <tr>\n",
       "      <th>2023-03-06</th>\n",
       "      <td>208500</td>\n",
       "      <td>214500</td>\n",
       "      <td>208500</td>\n",
       "      <td>214500</td>\n",
       "      <td>1052243</td>\n",
       "      <td>0.043796</td>\n",
       "    </tr>\n",
       "    <tr>\n",
       "      <th>2023-03-07</th>\n",
       "      <td>214000</td>\n",
       "      <td>214500</td>\n",
       "      <td>210500</td>\n",
       "      <td>211000</td>\n",
       "      <td>640146</td>\n",
       "      <td>-0.016317</td>\n",
       "    </tr>\n",
       "    <tr>\n",
       "      <th>2023-03-08</th>\n",
       "      <td>208500</td>\n",
       "      <td>209000</td>\n",
       "      <td>202000</td>\n",
       "      <td>202500</td>\n",
       "      <td>1027023</td>\n",
       "      <td>-0.040284</td>\n",
       "    </tr>\n",
       "    <tr>\n",
       "      <th>2023-03-09</th>\n",
       "      <td>204500</td>\n",
       "      <td>206000</td>\n",
       "      <td>202000</td>\n",
       "      <td>203000</td>\n",
       "      <td>248231</td>\n",
       "      <td>0.002469</td>\n",
       "    </tr>\n",
       "  </tbody>\n",
       "</table>\n",
       "</div>"
      ],
      "text/plain": [
       "              Open    High     Low   Close   Volume    Change\n",
       "Date                                                         \n",
       "2023-01-05  184500  190000  184000  186000  1107483  0.019178\n",
       "2023-01-06  185500  187000  182500  185000   741129 -0.005376\n",
       "2023-01-09  189500  196500  189000  196500  1115201  0.062162\n",
       "2023-01-10  193000  196000  190500  193000   839225 -0.017812\n",
       "2023-01-11  197500  200500  194500  195000  1030650  0.010363\n",
       "2023-01-12  198000  199000  194000  194000   797343 -0.005128\n",
       "2023-01-13  196000  200500  195000  195000   869459  0.005155\n",
       "2023-01-16  197000  201000  195000  200500   846276  0.028205\n",
       "2023-01-17  201000  201000  193500  193500   976576 -0.034913\n",
       "2023-01-18  194000  196000  193000  195500   518929  0.010336\n",
       "2023-01-19  194000  196500  192500  196000   475600  0.002558\n",
       "2023-01-20  195500  201000  195000  196000   787881  0.000000\n",
       "2023-01-25  200500  203500  199600  202000   988822  0.030612\n",
       "2023-01-26  202500  204000  199900  204000   873219  0.009901\n",
       "2023-01-27  204500  211500  202000  211500  1212987  0.036765\n",
       "2023-01-30  212000  214000  206500  207000  1204050 -0.021277\n",
       "2023-01-31  206000  208500  202000  202500  1076468 -0.021739\n",
       "2023-02-01  204500  208500  202500  205500   860204  0.014815\n",
       "2023-02-02  213000  213500  210500  211500  1245591  0.029197\n",
       "2023-02-03  214000  225500  210500  223500  3065767  0.056738\n",
       "2023-02-06  221000  224500  215500  215500  1390741 -0.035794\n",
       "2023-02-07  216000  220500  215000  219500  1041746  0.018561\n",
       "2023-02-08  224500  232000  224000  230500  1777709  0.050114\n",
       "2023-02-09  224500  230500  224000  230000  1575905 -0.002169\n",
       "2023-02-10  226000  230500  222000  230000  1412939  0.000000\n",
       "2023-02-13  231000  231000  220500  223000  1308899 -0.030435\n",
       "2023-02-14  226500  228500  223000  224000   745937  0.004484\n",
       "2023-02-15  224500  224500  215000  215500  1424562 -0.037946\n",
       "2023-02-16  218000  222500  218000  220500   959443  0.023202\n",
       "2023-02-17  216000  219000  212000  215500   904481 -0.022676\n",
       "2023-02-20  215500  220000  213500  219000   571053  0.016241\n",
       "2023-02-21  220500  220500  215000  215500   646501 -0.015982\n",
       "2023-02-22  211500  213500  210500  211500   820639 -0.018561\n",
       "2023-02-23  212000  214500  211000  213500   563669  0.009456\n",
       "2023-02-24  213500  214000  207000  208000   851405 -0.025761\n",
       "2023-02-27  204000  209000  204000  208000   930467  0.000000\n",
       "2023-02-28  209500  212000  207500  208500   848323  0.002404\n",
       "2023-03-02  207500  209500  205000  206000   817689 -0.011990\n",
       "2023-03-03  207500  210500  205500  205500   729689 -0.002427\n",
       "2023-03-06  208500  214500  208500  214500  1052243  0.043796\n",
       "2023-03-07  214000  214500  210500  211000   640146 -0.016317\n",
       "2023-03-08  208500  209000  202000  202500  1027023 -0.040284\n",
       "2023-03-09  204500  206000  202000  203000   248231  0.002469"
      ]
     },
     "execution_count": 32,
     "metadata": {},
     "output_type": "execute_result"
    }
   ],
   "source": [
    "ndr[ndr.index >'2023-01-04']"
   ]
  },
  {
   "cell_type": "code",
   "execution_count": 44,
   "metadata": {
    "execution": {
     "iopub.execute_input": "2023-03-10T01:36:01.825134Z",
     "iopub.status.busy": "2023-03-10T01:36:01.824521Z",
     "iopub.status.idle": "2023-03-10T01:36:02.237668Z",
     "shell.execute_reply": "2023-03-10T01:36:02.237027Z",
     "shell.execute_reply.started": "2023-03-10T01:36:01.825079Z"
    },
    "tags": []
   },
   "outputs": [
    {
     "data": {
      "text/plain": [
       "<Axes: xlabel='Date'>"
      ]
     },
     "execution_count": 44,
     "metadata": {},
     "output_type": "execute_result"
    },
    {
     "data": {
      "image/png": "[encoded data removed]",
      "text/plain": [
       "<Figure size 640x480 with 1 Axes>"
      ]
     },
     "metadata": {},
     "output_type": "display_data"
    }
   ],
   "source": [
    "ndr[(ndr.index>'2022.01.01') & (ndr.index<'2022.12.01')].plot()"
   ]
  },
  {
   "cell_type": "code",
   "execution_count": 45,
   "metadata": {
    "execution": {
     "iopub.execute_input": "2023-03-10T01:36:06.847689Z",
     "iopub.status.busy": "2023-03-10T01:36:06.847013Z",
     "iopub.status.idle": "2023-03-10T01:36:07.144786Z",
     "shell.execute_reply": "2023-03-10T01:36:07.144129Z",
     "shell.execute_reply.started": "2023-03-10T01:36:06.847634Z"
    },
    "tags": []
   },
   "outputs": [
    {
     "data": {
      "text/plain": [
       "<Axes: xlabel='Date'>"
      ]
     },
     "execution_count": 45,
     "metadata": {},
     "output_type": "execute_result"
    },
    {
     "data": {
      "image/png": "[encoded data removed]",
      "text/plain": [
       "<Figure size 640x480 with 1 Axes>"
      ]
     },
     "metadata": {},
     "output_type": "display_data"
    }
   ],
   "source": [
    "ndr[(ndr.index>'2022.01.01') & (ndr.index<'2022.12.01')]['Open'].plot()"
   ]
  },
  {
   "cell_type": "code",
   "execution_count": 35,
   "metadata": {
    "execution": {
     "iopub.execute_input": "2023-03-09T01:15:28.657360Z",
     "iopub.status.busy": "2023-03-09T01:15:28.656720Z",
     "iopub.status.idle": "2023-03-09T01:15:31.063003Z",
     "shell.execute_reply": "2023-03-09T01:15:31.061850Z",
     "shell.execute_reply.started": "2023-03-09T01:15:28.657303Z"
    },
    "tags": []
   },
   "outputs": [
    {
     "data": {
      "text/plain": [
       "array([<Axes: xlabel='Date'>, <Axes: xlabel='Date'>,\n",
       "       <Axes: xlabel='Date'>, <Axes: xlabel='Date'>,\n",
       "       <Axes: xlabel='Date'>, <Axes: xlabel='Date'>], dtype=object)"
      ]
     },
     "execution_count": 35,
     "metadata": {},
     "output_type": "execute_result"
    },
    {
     "data": {
      "image/png": "[encoded data removed]",
      "text/plain": [
       "<Figure size 1000x800 with 6 Axes>"
      ]
     },
     "metadata": {},
     "output_type": "display_data"
    }
   ],
   "source": [
    "ndr[(ndr.index>'2022.01.01') & (ndr.index<'2022.12.01')].plot(subplots=True, figsize=(10, 8))"
   ]
  },
  {
   "cell_type": "code",
   "execution_count": null,
   "metadata": {},
   "outputs": [],
   "source": []
  },
  {
   "cell_type": "code",
   "execution_count": 36,
   "metadata": {
    "execution": {
     "iopub.execute_input": "2023-03-09T01:15:47.237548Z",
     "iopub.status.busy": "2023-03-09T01:15:47.236908Z",
     "iopub.status.idle": "2023-03-09T01:15:48.405868Z",
     "shell.execute_reply": "2023-03-09T01:15:48.404744Z",
     "shell.execute_reply.started": "2023-03-09T01:15:47.237492Z"
    },
    "tags": []
   },
   "outputs": [
    {
     "data": {
      "text/plain": [
       "array([[<Axes: title={'center': 'Open'}>,\n",
       "        <Axes: title={'center': 'High'}>],\n",
       "       [<Axes: title={'center': 'Low'}>,\n",
       "        <Axes: title={'center': 'Close'}>],\n",
       "       [<Axes: title={'center': 'Volume'}>,\n",
       "        <Axes: title={'center': 'Change'}>]], dtype=object)"
      ]
     },
     "execution_count": 36,
     "metadata": {},
     "output_type": "execute_result"
    },
    {
     "data": {
      "image/png": "[encoded data removed]",
      "text/plain": [
       "<Figure size 1000x800 with 6 Axes>"
      ]
     },
     "metadata": {},
     "output_type": "display_data"
    }
   ],
   "source": [
    "ndr[(ndr.index>'2022.01.01') & (ndr.index<'2022.12.01')].hist(figsize=(10, 8),bins=20)"
   ]
  },
  {
   "cell_type": "markdown",
   "metadata": {
    "execution": {
     "iopub.execute_input": "2023-03-10T01:36:54.417375Z",
     "iopub.status.busy": "2023-03-10T01:36:54.416740Z",
     "iopub.status.idle": "2023-03-10T01:36:54.423262Z",
     "shell.execute_reply": "2023-03-10T01:36:54.421938Z",
     "shell.execute_reply.started": "2023-03-10T01:36:54.417320Z"
    },
    "tags": []
   },
   "source": [
    "## Problem"
   ]
  },
  {
   "cell_type": "markdown",
   "metadata": {},
   "source": [
    "### Choose stock data for a company in specific period (Month, year): For example '삼성' in Jan 2022\n",
    "\n",
    "Let sdata=the dataframe of 삼성 in Jan, 2022 \n",
    "\n",
    "Draw the graph of sdata in each column('Open', 'high', 'Low','Close')\n",
    "\n",
    "Using the least square method by using the linear, quadratic and qubic polynomials, approximate the graph of sdata in each column"
   ]
  },
  {
   "cell_type": "code",
   "execution_count": null,
   "metadata": {},
   "outputs": [],
   "source": []
  }
 ],
 "metadata": {
  "kernelspec": {
   "display_name": "Python 3 (ipykernel)",
   "language": "python",
   "name": "python3"
  },
  "language_info": {
   "codemirror_mode": {
    "name": "ipython",
    "version": 3
   },
   "file_extension": ".py",
   "mimetype": "text/x-python",
   "name": "python",
   "nbconvert_exporter": "python",
   "pygments_lexer": "ipython3",
   "version": "3.10.9"
  }
 },
 "nbformat": 4,
 "nbformat_minor": 4
}
